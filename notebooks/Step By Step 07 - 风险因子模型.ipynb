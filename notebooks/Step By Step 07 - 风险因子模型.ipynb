{
 "cells": [
  {
   "cell_type": "markdown",
   "id": "7c086ca9-e81c-4541-9cf8-f232d5875957",
   "metadata": {},
   "source": [
    "# Step By Step 07 - 风险因子模型\n",
    "-------------------\n",
    "\n",
    "> 在本篇中我们使用数据供应商提供的因子模型，进行alpha建模"
   ]
  },
  {
   "cell_type": "markdown",
   "id": "d1542db0-bc94-4868-afef-1175abf1a287",
   "metadata": {},
   "source": [
    "## 一、数据展示"
   ]
  },
  {
   "cell_type": "code",
   "execution_count": 44,
   "id": "33aa3cb0-b778-4e0d-9861-08d1847ed84d",
   "metadata": {},
   "outputs": [
    {
     "data": {
      "text/plain": [
       "<alphamind.data.engines.sqlengine.mysql.SqlEngine at 0x7fce1f1eff10>"
      ]
     },
     "execution_count": 44,
     "metadata": {},
     "output_type": "execute_result"
    }
   ],
   "source": [
    "import numpy as np\n",
    "from alphamind.api import *\n",
    "from PyFin.api import *\n",
    "from alphamind.portfolio.meanvariancebuilder import mean_variance_builder\n",
    "\n",
    "engine = SqlEngine(os.environ['DB_URI'])\n",
    "engine"
   ]
  },
  {
   "cell_type": "markdown",
   "id": "4810d0ba-c695-43ed-8806-d1ec4aae6c22",
   "metadata": {},
   "source": [
    "### 1.1 因子暴露\n",
    "\n",
    "这里我们展示某一天的因子截面值，这里我们只使用**风格因子**以及**行业因子**："
   ]
  },
  {
   "cell_type": "code",
   "execution_count": 2,
   "id": "76948f2f-fc60-495f-bf8f-1cc2d23320c4",
   "metadata": {},
   "outputs": [
    {
     "name": "stdout",
     "output_type": "stream",
     "text": [
      "# 风格因子: ['BETA', 'MOMENTUM', 'SIZE', 'EARNYILD', 'RESVOL', 'GROWTH', 'BTOP', 'LEVERAGE', 'LIQUIDTY', 'SIZENL']\n",
      "# 行业因子: ['Bank', 'RealEstate', 'Health', 'Transportation', 'Mining', 'NonFerMetal', 'HouseApp', 'LeiService', 'MachiEquip', 'BuildDeco', 'CommeTrade', 'CONMAT', 'Auto', 'Textile', 'FoodBever', 'Electronics', 'Computer', 'LightIndus', 'Utilities', 'Telecom', 'AgriForest', 'CHEM', 'Media', 'IronSteel', 'NonBankFinan', 'ELECEQP', 'AERODEF', 'Conglomerates']\n"
     ]
    }
   ],
   "source": [
    "print(f\"# 风格因子: {risk_styles}\")\n",
    "print(f\"# 行业因子: {industry_styles}\")"
   ]
  },
  {
   "cell_type": "code",
   "execution_count": 3,
   "id": "87ab9b56-1f3c-43aa-af96-a8177403b65d",
   "metadata": {},
   "outputs": [
    {
     "name": "stdout",
     "output_type": "stream",
     "text": [
      "因子暴露矩阵: (300, 41)\n"
     ]
    }
   ],
   "source": [
    "ref_date = \"2020-07-30\"\n",
    "universe = Universe(\"HS300\")\n",
    "\n",
    "factors = all_styles = risk_styles + industry_styles\n",
    "\n",
    "codes = engine.fetch_codes(ref_date, universe)\n",
    "factor_data = engine.fetch_factor(ref_date, factors, codes)\n",
    "print(f\"因子暴露矩阵: {factor_data.shape}\")"
   ]
  },
  {
   "cell_type": "code",
   "execution_count": 4,
   "id": "aaaf7782-7346-468c-86ed-9c5122dd214d",
   "metadata": {},
   "outputs": [
    {
     "data": {
      "text/html": [
       "<div>\n",
       "<style scoped>\n",
       "    .dataframe tbody tr th:only-of-type {\n",
       "        vertical-align: middle;\n",
       "    }\n",
       "\n",
       "    .dataframe tbody tr th {\n",
       "        vertical-align: top;\n",
       "    }\n",
       "\n",
       "    .dataframe thead th {\n",
       "        text-align: right;\n",
       "    }\n",
       "</style>\n",
       "<table border=\"1\" class=\"dataframe\">\n",
       "  <thead>\n",
       "    <tr style=\"text-align: right;\">\n",
       "      <th></th>\n",
       "      <th>AERODEF</th>\n",
       "      <th>AgriForest</th>\n",
       "      <th>Auto</th>\n",
       "      <th>BETA</th>\n",
       "      <th>BTOP</th>\n",
       "      <th>Bank</th>\n",
       "      <th>BuildDeco</th>\n",
       "      <th>CHEM</th>\n",
       "      <th>CONMAT</th>\n",
       "      <th>CommeTrade</th>\n",
       "      <th>...</th>\n",
       "      <th>RealEstate</th>\n",
       "      <th>SIZE</th>\n",
       "      <th>SIZENL</th>\n",
       "      <th>Telecom</th>\n",
       "      <th>Textile</th>\n",
       "      <th>Transportation</th>\n",
       "      <th>Utilities</th>\n",
       "      <th>code</th>\n",
       "      <th>chgPct</th>\n",
       "      <th>secShortName</th>\n",
       "    </tr>\n",
       "  </thead>\n",
       "  <tbody>\n",
       "    <tr>\n",
       "      <th>0</th>\n",
       "      <td>0</td>\n",
       "      <td>0</td>\n",
       "      <td>0</td>\n",
       "      <td>-0.991</td>\n",
       "      <td>3.521</td>\n",
       "      <td>1</td>\n",
       "      <td>0</td>\n",
       "      <td>0</td>\n",
       "      <td>0</td>\n",
       "      <td>0</td>\n",
       "      <td>...</td>\n",
       "      <td>0</td>\n",
       "      <td>1.646</td>\n",
       "      <td>-0.291</td>\n",
       "      <td>0</td>\n",
       "      <td>0</td>\n",
       "      <td>0</td>\n",
       "      <td>0</td>\n",
       "      <td>2010000001</td>\n",
       "      <td>-1.0466</td>\n",
       "      <td>浦发银行</td>\n",
       "    </tr>\n",
       "    <tr>\n",
       "      <th>1</th>\n",
       "      <td>0</td>\n",
       "      <td>0</td>\n",
       "      <td>0</td>\n",
       "      <td>-0.102</td>\n",
       "      <td>0.263</td>\n",
       "      <td>0</td>\n",
       "      <td>0</td>\n",
       "      <td>0</td>\n",
       "      <td>0</td>\n",
       "      <td>0</td>\n",
       "      <td>...</td>\n",
       "      <td>0</td>\n",
       "      <td>-0.465</td>\n",
       "      <td>0.415</td>\n",
       "      <td>0</td>\n",
       "      <td>0</td>\n",
       "      <td>1</td>\n",
       "      <td>0</td>\n",
       "      <td>2010000005</td>\n",
       "      <td>-2.0237</td>\n",
       "      <td>白云机场</td>\n",
       "    </tr>\n",
       "    <tr>\n",
       "      <th>2</th>\n",
       "      <td>0</td>\n",
       "      <td>0</td>\n",
       "      <td>0</td>\n",
       "      <td>-0.628</td>\n",
       "      <td>-0.721</td>\n",
       "      <td>0</td>\n",
       "      <td>0</td>\n",
       "      <td>0</td>\n",
       "      <td>0</td>\n",
       "      <td>0</td>\n",
       "      <td>...</td>\n",
       "      <td>0</td>\n",
       "      <td>0.892</td>\n",
       "      <td>-0.396</td>\n",
       "      <td>0</td>\n",
       "      <td>0</td>\n",
       "      <td>1</td>\n",
       "      <td>0</td>\n",
       "      <td>2010000010</td>\n",
       "      <td>-1.7115</td>\n",
       "      <td>上海机场</td>\n",
       "    </tr>\n",
       "    <tr>\n",
       "      <th>3</th>\n",
       "      <td>0</td>\n",
       "      <td>0</td>\n",
       "      <td>0</td>\n",
       "      <td>-0.732</td>\n",
       "      <td>1.504</td>\n",
       "      <td>0</td>\n",
       "      <td>0</td>\n",
       "      <td>0</td>\n",
       "      <td>0</td>\n",
       "      <td>0</td>\n",
       "      <td>...</td>\n",
       "      <td>0</td>\n",
       "      <td>0.080</td>\n",
       "      <td>0.063</td>\n",
       "      <td>0</td>\n",
       "      <td>0</td>\n",
       "      <td>0</td>\n",
       "      <td>0</td>\n",
       "      <td>2010000011</td>\n",
       "      <td>-0.8475</td>\n",
       "      <td>包钢股份</td>\n",
       "    </tr>\n",
       "    <tr>\n",
       "      <th>4</th>\n",
       "      <td>0</td>\n",
       "      <td>0</td>\n",
       "      <td>0</td>\n",
       "      <td>-0.963</td>\n",
       "      <td>1.569</td>\n",
       "      <td>0</td>\n",
       "      <td>0</td>\n",
       "      <td>0</td>\n",
       "      <td>0</td>\n",
       "      <td>0</td>\n",
       "      <td>...</td>\n",
       "      <td>0</td>\n",
       "      <td>0.373</td>\n",
       "      <td>-0.136</td>\n",
       "      <td>0</td>\n",
       "      <td>0</td>\n",
       "      <td>0</td>\n",
       "      <td>1</td>\n",
       "      <td>2010000012</td>\n",
       "      <td>0.0000</td>\n",
       "      <td>华能国际</td>\n",
       "    </tr>\n",
       "  </tbody>\n",
       "</table>\n",
       "<p>5 rows × 41 columns</p>\n",
       "</div>"
      ],
      "text/plain": [
       "   AERODEF  AgriForest  Auto   BETA   BTOP  Bank  BuildDeco  CHEM  CONMAT  \\\n",
       "0        0           0     0 -0.991  3.521     1          0     0       0   \n",
       "1        0           0     0 -0.102  0.263     0          0     0       0   \n",
       "2        0           0     0 -0.628 -0.721     0          0     0       0   \n",
       "3        0           0     0 -0.732  1.504     0          0     0       0   \n",
       "4        0           0     0 -0.963  1.569     0          0     0       0   \n",
       "\n",
       "   CommeTrade  ...  RealEstate   SIZE  SIZENL  Telecom  Textile  \\\n",
       "0           0  ...           0  1.646  -0.291        0        0   \n",
       "1           0  ...           0 -0.465   0.415        0        0   \n",
       "2           0  ...           0  0.892  -0.396        0        0   \n",
       "3           0  ...           0  0.080   0.063        0        0   \n",
       "4           0  ...           0  0.373  -0.136        0        0   \n",
       "\n",
       "   Transportation  Utilities        code  chgPct  secShortName  \n",
       "0               0          0  2010000001 -1.0466          浦发银行  \n",
       "1               1          0  2010000005 -2.0237          白云机场  \n",
       "2               1          0  2010000010 -1.7115          上海机场  \n",
       "3               0          0  2010000011 -0.8475          包钢股份  \n",
       "4               0          1  2010000012  0.0000          华能国际  \n",
       "\n",
       "[5 rows x 41 columns]"
      ]
     },
     "execution_count": 4,
     "metadata": {},
     "output_type": "execute_result"
    }
   ],
   "source": [
    "factor_data.head()"
   ]
  },
  {
   "cell_type": "markdown",
   "id": "fb452189-558d-445a-8362-4292b91b98e0",
   "metadata": {},
   "source": [
    "### 1.2 因子风险模型\n",
    "\n",
    "类似的，我们也可以获取因子的风险矩阵："
   ]
  },
  {
   "cell_type": "code",
   "execution_count": 5,
   "id": "f7098bb1-f38b-4f89-a18f-a3d8ff239ad0",
   "metadata": {},
   "outputs": [],
   "source": [
    "factor_model, _, _ = engine.fetch_risk_model(ref_date, codes, risk_model=\"short\", model_type=\"factor\")"
   ]
  },
  {
   "cell_type": "code",
   "execution_count": 6,
   "id": "27eb6e0c-b749-49db-b4c4-2d96a641bff1",
   "metadata": {},
   "outputs": [],
   "source": [
    "factor_cov = factor_model.factor_cov\n",
    "factor_loaing = factor_model.risk_exp\n",
    "factor_idsync = factor_model.idsync"
   ]
  },
  {
   "cell_type": "markdown",
   "id": "55c1acbb-2e71-4a72-b428-f75dbe7ec303",
   "metadata": {},
   "source": [
    "#### 1.2.1 因子协方差"
   ]
  },
  {
   "cell_type": "code",
   "execution_count": 7,
   "id": "8bf11d7c-7264-4dae-b256-5382714ebeed",
   "metadata": {},
   "outputs": [
    {
     "data": {
      "text/html": [
       "<div>\n",
       "<style scoped>\n",
       "    .dataframe tbody tr th:only-of-type {\n",
       "        vertical-align: middle;\n",
       "    }\n",
       "\n",
       "    .dataframe tbody tr th {\n",
       "        vertical-align: top;\n",
       "    }\n",
       "\n",
       "    .dataframe thead th {\n",
       "        text-align: right;\n",
       "    }\n",
       "</style>\n",
       "<table border=\"1\" class=\"dataframe\">\n",
       "  <thead>\n",
       "    <tr style=\"text-align: right;\">\n",
       "      <th></th>\n",
       "      <th>AERODEF</th>\n",
       "      <th>AgriForest</th>\n",
       "      <th>Auto</th>\n",
       "      <th>BETA</th>\n",
       "      <th>BTOP</th>\n",
       "      <th>Bank</th>\n",
       "      <th>BuildDeco</th>\n",
       "      <th>CHEM</th>\n",
       "      <th>CONMAT</th>\n",
       "      <th>COUNTRY</th>\n",
       "    </tr>\n",
       "    <tr>\n",
       "      <th>Factor</th>\n",
       "      <th></th>\n",
       "      <th></th>\n",
       "      <th></th>\n",
       "      <th></th>\n",
       "      <th></th>\n",
       "      <th></th>\n",
       "      <th></th>\n",
       "      <th></th>\n",
       "      <th></th>\n",
       "      <th></th>\n",
       "    </tr>\n",
       "  </thead>\n",
       "  <tbody>\n",
       "    <tr>\n",
       "      <th>AERODEF</th>\n",
       "      <td>0.062969</td>\n",
       "      <td>0.004594</td>\n",
       "      <td>0.001708</td>\n",
       "      <td>0.001801</td>\n",
       "      <td>0.001031</td>\n",
       "      <td>-0.006454</td>\n",
       "      <td>0.001015</td>\n",
       "      <td>0.001987</td>\n",
       "      <td>0.001412</td>\n",
       "      <td>0.012135</td>\n",
       "    </tr>\n",
       "    <tr>\n",
       "      <th>AgriForest</th>\n",
       "      <td>0.004594</td>\n",
       "      <td>0.058825</td>\n",
       "      <td>0.001609</td>\n",
       "      <td>-0.001543</td>\n",
       "      <td>0.000393</td>\n",
       "      <td>-0.009808</td>\n",
       "      <td>0.003832</td>\n",
       "      <td>0.002811</td>\n",
       "      <td>0.004971</td>\n",
       "      <td>-0.005977</td>\n",
       "    </tr>\n",
       "    <tr>\n",
       "      <th>Auto</th>\n",
       "      <td>0.001708</td>\n",
       "      <td>0.001609</td>\n",
       "      <td>0.011279</td>\n",
       "      <td>0.000355</td>\n",
       "      <td>0.000023</td>\n",
       "      <td>-0.003275</td>\n",
       "      <td>0.000016</td>\n",
       "      <td>0.001883</td>\n",
       "      <td>0.000470</td>\n",
       "      <td>0.001611</td>\n",
       "    </tr>\n",
       "    <tr>\n",
       "      <th>BETA</th>\n",
       "      <td>0.001801</td>\n",
       "      <td>-0.001543</td>\n",
       "      <td>0.000355</td>\n",
       "      <td>0.003289</td>\n",
       "      <td>0.000323</td>\n",
       "      <td>-0.000069</td>\n",
       "      <td>-0.000691</td>\n",
       "      <td>-0.000425</td>\n",
       "      <td>-0.000860</td>\n",
       "      <td>0.012874</td>\n",
       "    </tr>\n",
       "    <tr>\n",
       "      <th>BTOP</th>\n",
       "      <td>0.001031</td>\n",
       "      <td>0.000393</td>\n",
       "      <td>0.000023</td>\n",
       "      <td>0.000323</td>\n",
       "      <td>0.000700</td>\n",
       "      <td>-0.000368</td>\n",
       "      <td>-0.000020</td>\n",
       "      <td>-0.000229</td>\n",
       "      <td>-0.000435</td>\n",
       "      <td>0.001591</td>\n",
       "    </tr>\n",
       "    <tr>\n",
       "      <th>Bank</th>\n",
       "      <td>-0.006454</td>\n",
       "      <td>-0.009808</td>\n",
       "      <td>-0.003275</td>\n",
       "      <td>-0.000069</td>\n",
       "      <td>-0.000368</td>\n",
       "      <td>0.017824</td>\n",
       "      <td>-0.003455</td>\n",
       "      <td>-0.004883</td>\n",
       "      <td>-0.006962</td>\n",
       "      <td>-0.007152</td>\n",
       "    </tr>\n",
       "    <tr>\n",
       "      <th>BuildDeco</th>\n",
       "      <td>0.001015</td>\n",
       "      <td>0.003832</td>\n",
       "      <td>0.000016</td>\n",
       "      <td>-0.000691</td>\n",
       "      <td>-0.000020</td>\n",
       "      <td>-0.003455</td>\n",
       "      <td>0.014501</td>\n",
       "      <td>0.001957</td>\n",
       "      <td>0.012481</td>\n",
       "      <td>-0.003628</td>\n",
       "    </tr>\n",
       "    <tr>\n",
       "      <th>CHEM</th>\n",
       "      <td>0.001987</td>\n",
       "      <td>0.002811</td>\n",
       "      <td>0.001883</td>\n",
       "      <td>-0.000425</td>\n",
       "      <td>-0.000229</td>\n",
       "      <td>-0.004883</td>\n",
       "      <td>0.001957</td>\n",
       "      <td>0.007744</td>\n",
       "      <td>0.005092</td>\n",
       "      <td>-0.000320</td>\n",
       "    </tr>\n",
       "    <tr>\n",
       "      <th>CONMAT</th>\n",
       "      <td>0.001412</td>\n",
       "      <td>0.004971</td>\n",
       "      <td>0.000470</td>\n",
       "      <td>-0.000860</td>\n",
       "      <td>-0.000435</td>\n",
       "      <td>-0.006962</td>\n",
       "      <td>0.012481</td>\n",
       "      <td>0.005092</td>\n",
       "      <td>0.031932</td>\n",
       "      <td>-0.002775</td>\n",
       "    </tr>\n",
       "    <tr>\n",
       "      <th>COUNTRY</th>\n",
       "      <td>0.012135</td>\n",
       "      <td>-0.005977</td>\n",
       "      <td>0.001611</td>\n",
       "      <td>0.012874</td>\n",
       "      <td>0.001591</td>\n",
       "      <td>-0.007152</td>\n",
       "      <td>-0.003628</td>\n",
       "      <td>-0.000320</td>\n",
       "      <td>-0.002775</td>\n",
       "      <td>0.090338</td>\n",
       "    </tr>\n",
       "  </tbody>\n",
       "</table>\n",
       "</div>"
      ],
      "text/plain": [
       "             AERODEF  AgriForest      Auto      BETA      BTOP      Bank  \\\n",
       "Factor                                                                     \n",
       "AERODEF     0.062969    0.004594  0.001708  0.001801  0.001031 -0.006454   \n",
       "AgriForest  0.004594    0.058825  0.001609 -0.001543  0.000393 -0.009808   \n",
       "Auto        0.001708    0.001609  0.011279  0.000355  0.000023 -0.003275   \n",
       "BETA        0.001801   -0.001543  0.000355  0.003289  0.000323 -0.000069   \n",
       "BTOP        0.001031    0.000393  0.000023  0.000323  0.000700 -0.000368   \n",
       "Bank       -0.006454   -0.009808 -0.003275 -0.000069 -0.000368  0.017824   \n",
       "BuildDeco   0.001015    0.003832  0.000016 -0.000691 -0.000020 -0.003455   \n",
       "CHEM        0.001987    0.002811  0.001883 -0.000425 -0.000229 -0.004883   \n",
       "CONMAT      0.001412    0.004971  0.000470 -0.000860 -0.000435 -0.006962   \n",
       "COUNTRY     0.012135   -0.005977  0.001611  0.012874  0.001591 -0.007152   \n",
       "\n",
       "            BuildDeco      CHEM    CONMAT   COUNTRY  \n",
       "Factor                                               \n",
       "AERODEF      0.001015  0.001987  0.001412  0.012135  \n",
       "AgriForest   0.003832  0.002811  0.004971 -0.005977  \n",
       "Auto         0.000016  0.001883  0.000470  0.001611  \n",
       "BETA        -0.000691 -0.000425 -0.000860  0.012874  \n",
       "BTOP        -0.000020 -0.000229 -0.000435  0.001591  \n",
       "Bank        -0.003455 -0.004883 -0.006962 -0.007152  \n",
       "BuildDeco    0.014501  0.001957  0.012481 -0.003628  \n",
       "CHEM         0.001957  0.007744  0.005092 -0.000320  \n",
       "CONMAT       0.012481  0.005092  0.031932 -0.002775  \n",
       "COUNTRY     -0.003628 -0.000320 -0.002775  0.090338  "
      ]
     },
     "execution_count": 7,
     "metadata": {},
     "output_type": "execute_result"
    }
   ],
   "source": [
    "factor_cov.iloc[:10, :10]"
   ]
  },
  {
   "cell_type": "markdown",
   "id": "c5aaae0f-5d2f-4d5b-bb34-4697f40219ab",
   "metadata": {},
   "source": [
    "#### 1.2.2 因子载荷\n",
    "\n",
    "这个值实际上就是之前1.1的**因子暴露**"
   ]
  },
  {
   "cell_type": "code",
   "execution_count": 35,
   "id": "6607e1f4-85c0-40ed-b686-cecb8f37dd0f",
   "metadata": {},
   "outputs": [
    {
     "data": {
      "text/html": [
       "<div>\n",
       "<style scoped>\n",
       "    .dataframe tbody tr th:only-of-type {\n",
       "        vertical-align: middle;\n",
       "    }\n",
       "\n",
       "    .dataframe tbody tr th {\n",
       "        vertical-align: top;\n",
       "    }\n",
       "\n",
       "    .dataframe thead th {\n",
       "        text-align: right;\n",
       "    }\n",
       "</style>\n",
       "<table border=\"1\" class=\"dataframe\">\n",
       "  <thead>\n",
       "    <tr style=\"text-align: right;\">\n",
       "      <th></th>\n",
       "      <th>AERODEF</th>\n",
       "      <th>AgriForest</th>\n",
       "      <th>Auto</th>\n",
       "      <th>BETA</th>\n",
       "      <th>BTOP</th>\n",
       "      <th>Bank</th>\n",
       "      <th>BuildDeco</th>\n",
       "      <th>CHEM</th>\n",
       "      <th>CONMAT</th>\n",
       "      <th>COUNTRY</th>\n",
       "    </tr>\n",
       "    <tr>\n",
       "      <th>code</th>\n",
       "      <th></th>\n",
       "      <th></th>\n",
       "      <th></th>\n",
       "      <th></th>\n",
       "      <th></th>\n",
       "      <th></th>\n",
       "      <th></th>\n",
       "      <th></th>\n",
       "      <th></th>\n",
       "      <th></th>\n",
       "    </tr>\n",
       "  </thead>\n",
       "  <tbody>\n",
       "    <tr>\n",
       "      <th>2010000001</th>\n",
       "      <td>0</td>\n",
       "      <td>0</td>\n",
       "      <td>0</td>\n",
       "      <td>-0.991</td>\n",
       "      <td>3.521</td>\n",
       "      <td>1</td>\n",
       "      <td>0</td>\n",
       "      <td>0</td>\n",
       "      <td>0</td>\n",
       "      <td>1</td>\n",
       "    </tr>\n",
       "    <tr>\n",
       "      <th>2010000005</th>\n",
       "      <td>0</td>\n",
       "      <td>0</td>\n",
       "      <td>0</td>\n",
       "      <td>-0.102</td>\n",
       "      <td>0.263</td>\n",
       "      <td>0</td>\n",
       "      <td>0</td>\n",
       "      <td>0</td>\n",
       "      <td>0</td>\n",
       "      <td>1</td>\n",
       "    </tr>\n",
       "    <tr>\n",
       "      <th>2010000010</th>\n",
       "      <td>0</td>\n",
       "      <td>0</td>\n",
       "      <td>0</td>\n",
       "      <td>-0.628</td>\n",
       "      <td>-0.721</td>\n",
       "      <td>0</td>\n",
       "      <td>0</td>\n",
       "      <td>0</td>\n",
       "      <td>0</td>\n",
       "      <td>1</td>\n",
       "    </tr>\n",
       "    <tr>\n",
       "      <th>2010000011</th>\n",
       "      <td>0</td>\n",
       "      <td>0</td>\n",
       "      <td>0</td>\n",
       "      <td>-0.732</td>\n",
       "      <td>1.504</td>\n",
       "      <td>0</td>\n",
       "      <td>0</td>\n",
       "      <td>0</td>\n",
       "      <td>0</td>\n",
       "      <td>1</td>\n",
       "    </tr>\n",
       "    <tr>\n",
       "      <th>2010000012</th>\n",
       "      <td>0</td>\n",
       "      <td>0</td>\n",
       "      <td>0</td>\n",
       "      <td>-0.963</td>\n",
       "      <td>1.569</td>\n",
       "      <td>0</td>\n",
       "      <td>0</td>\n",
       "      <td>0</td>\n",
       "      <td>0</td>\n",
       "      <td>1</td>\n",
       "    </tr>\n",
       "  </tbody>\n",
       "</table>\n",
       "</div>"
      ],
      "text/plain": [
       "            AERODEF  AgriForest  Auto   BETA   BTOP  Bank  BuildDeco  CHEM  \\\n",
       "code                                                                         \n",
       "2010000001        0           0     0 -0.991  3.521     1          0     0   \n",
       "2010000005        0           0     0 -0.102  0.263     0          0     0   \n",
       "2010000010        0           0     0 -0.628 -0.721     0          0     0   \n",
       "2010000011        0           0     0 -0.732  1.504     0          0     0   \n",
       "2010000012        0           0     0 -0.963  1.569     0          0     0   \n",
       "\n",
       "            CONMAT  COUNTRY  \n",
       "code                         \n",
       "2010000001       0        1  \n",
       "2010000005       0        1  \n",
       "2010000010       0        1  \n",
       "2010000011       0        1  \n",
       "2010000012       0        1  "
      ]
     },
     "execution_count": 35,
     "metadata": {},
     "output_type": "execute_result"
    }
   ],
   "source": [
    "factor_loaing.iloc[:, :10].head()"
   ]
  },
  {
   "cell_type": "markdown",
   "id": "50b276e4-c25a-4513-bc73-931c0ab73eb4",
   "metadata": {},
   "source": [
    "#### 1.2.3 因子特质风险"
   ]
  },
  {
   "cell_type": "code",
   "execution_count": 9,
   "id": "80a12076-7256-4147-a120-763554eeeebf",
   "metadata": {},
   "outputs": [
    {
     "data": {
      "text/plain": [
       "code\n",
       "2010000001    0.025719\n",
       "2010000005    0.166317\n",
       "2010000010    0.066714\n",
       "2010000011    0.034306\n",
       "2010000012    0.052153\n",
       "Name: srisk, dtype: float64"
      ]
     },
     "execution_count": 9,
     "metadata": {},
     "output_type": "execute_result"
    }
   ],
   "source": [
    "factor_idsync.head()"
   ]
  },
  {
   "cell_type": "markdown",
   "id": "547c9f4b-a5bd-423c-ba28-5840a650f948",
   "metadata": {},
   "source": [
    "## 二、结合因子模型的alpha信号构造\n",
    "\n",
    "首先我们给予 **Finance-Python** 提供的功能来构造一个目标因子："
   ]
  },
  {
   "cell_type": "code",
   "execution_count": 10,
   "id": "2e2710fe-3c66-40cf-8ae2-30b52793088c",
   "metadata": {},
   "outputs": [
    {
     "data": {
      "text/html": [
       "<div>\n",
       "<style scoped>\n",
       "    .dataframe tbody tr th:only-of-type {\n",
       "        vertical-align: middle;\n",
       "    }\n",
       "\n",
       "    .dataframe tbody tr th {\n",
       "        vertical-align: top;\n",
       "    }\n",
       "\n",
       "    .dataframe thead th {\n",
       "        text-align: right;\n",
       "    }\n",
       "</style>\n",
       "<table border=\"1\" class=\"dataframe\">\n",
       "  <thead>\n",
       "    <tr style=\"text-align: right;\">\n",
       "      <th></th>\n",
       "      <th>alpha</th>\n",
       "      <th>code</th>\n",
       "      <th>chgPct</th>\n",
       "      <th>secShortName</th>\n",
       "    </tr>\n",
       "  </thead>\n",
       "  <tbody>\n",
       "    <tr>\n",
       "      <th>0</th>\n",
       "      <td>-0.586055</td>\n",
       "      <td>2010000001</td>\n",
       "      <td>-1.0466</td>\n",
       "      <td>浦发银行</td>\n",
       "    </tr>\n",
       "    <tr>\n",
       "      <th>1</th>\n",
       "      <td>-0.214693</td>\n",
       "      <td>2010000005</td>\n",
       "      <td>-2.0237</td>\n",
       "      <td>白云机场</td>\n",
       "    </tr>\n",
       "    <tr>\n",
       "      <th>2</th>\n",
       "      <td>1.317173</td>\n",
       "      <td>2010000010</td>\n",
       "      <td>-1.7115</td>\n",
       "      <td>上海机场</td>\n",
       "    </tr>\n",
       "    <tr>\n",
       "      <th>3</th>\n",
       "      <td>-1.711744</td>\n",
       "      <td>2010000011</td>\n",
       "      <td>-0.8475</td>\n",
       "      <td>包钢股份</td>\n",
       "    </tr>\n",
       "    <tr>\n",
       "      <th>4</th>\n",
       "      <td>-1.340383</td>\n",
       "      <td>2010000012</td>\n",
       "      <td>0.0000</td>\n",
       "      <td>华能国际</td>\n",
       "    </tr>\n",
       "  </tbody>\n",
       "</table>\n",
       "</div>"
      ],
      "text/plain": [
       "      alpha        code  chgPct secShortName\n",
       "0 -0.586055  2010000001 -1.0466         浦发银行\n",
       "1 -0.214693  2010000005 -2.0237         白云机场\n",
       "2  1.317173  2010000010 -1.7115         上海机场\n",
       "3 -1.711744  2010000011 -0.8475         包钢股份\n",
       "4 -1.340383  2010000012  0.0000         华能国际"
      ]
     },
     "execution_count": 10,
     "metadata": {},
     "output_type": "execute_result"
    }
   ],
   "source": [
    "alpha_formula = CSRank(LAST(\"EMA5D\") + LAST(\"EMV6D\"))\n",
    "alpha_raw = engine.fetch_factor(ref_date, factors={\"alpha\": alpha_formula}, codes=codes).dropna()\n",
    "alpha_raw[\"alpha\"] = standardize(alpha_raw[[\"alpha\"]].values)\n",
    "alpha_raw.head()"
   ]
  },
  {
   "cell_type": "markdown",
   "id": "2973a212-efb4-4916-ab47-655837384d7d",
   "metadata": {},
   "source": [
    "我们可以使用因子暴露对原始因子进行 **风格剥离**（中性化）,这里我们只选用 **市值以及Beta** 风格因子进行中性化："
   ]
  },
  {
   "cell_type": "code",
   "execution_count": 11,
   "id": "39bc888c-9735-4477-9e83-b753046d4847",
   "metadata": {},
   "outputs": [],
   "source": [
    "specific_factor_loading = factor_loaing.loc[alpha_raw.code, [\"BETA\", \"SIZE\", \"COUNTRY\"]]  # 加入COUNTRY相当于加入截距\n",
    "alpha_raw[\"neu.\"] = standardize(neutralize(specific_factor_loading.values, alpha_raw[[\"alpha\"]].values))"
   ]
  },
  {
   "cell_type": "markdown",
   "id": "f7c90428-d1a1-46b1-9669-78e0ac4aa29a",
   "metadata": {},
   "source": [
    "我们可以验证这两个因子确实被从因子中剥离了"
   ]
  },
  {
   "cell_type": "code",
   "execution_count": 12,
   "id": "90597769-8c93-4009-9232-9c1b9cac797e",
   "metadata": {},
   "outputs": [
    {
     "name": "stdout",
     "output_type": "stream",
     "text": [
      "BETA 中性: 前: 68.9051 后： -0.0000\n",
      "SIZE 中性: 前: 57.8010 后： -0.0000\n"
     ]
    }
   ],
   "source": [
    "print(f\"BETA 中性: 前: {alpha_raw['alpha'].values @ specific_factor_loading['BETA'].values:.4f} 后： {alpha_raw['neu.'].values @ specific_factor_loading['BETA'].values:.4f}\")\n",
    "print(f\"SIZE 中性: 前: {alpha_raw['alpha'].values @ specific_factor_loading['SIZE'].values:.4f} 后： {alpha_raw['neu.'].values @ specific_factor_loading['SIZE'].values:.4f}\")"
   ]
  },
  {
   "cell_type": "markdown",
   "id": "575edd3f-7881-4664-9dea-942371540cdf",
   "metadata": {},
   "source": [
    "## 三、组合构建\n",
    "\n",
    "在本节中，我们使用上一节计算算得到的因子作为我们的单期预测，进行组合构建。\n",
    "\n",
    "在这里我们使用经典的**单期均值方差模型**，但是会引入投资交易中经常需要考虑的各种限制：\n",
    "\n",
    "1. 杠杆率的要求（不得过低或者过高）；\n",
    "2. 单票集中度的要求（单票不可持仓过大）；\n",
    "3. 行业板块集中度的要求（不可过高）；\n",
    "4. 风格偏移的限制（对某些风格的偏好不可过高或过低）；\n",
    "5. 在以上的限制下，最大化风险调整后收益。\n",
    "\n",
    "在这里我们将展示一个例子，涵盖以上各个点；"
   ]
  },
  {
   "cell_type": "code",
   "execution_count": 83,
   "id": "6fe959ee-6311-46c1-a243-9b2db225cf00",
   "metadata": {},
   "outputs": [],
   "source": [
    "er = alpha_raw[\"neu.\"].values\n",
    "benchmark = engine.fetch_benchmark(ref_date, 300).set_index(\"code\").loc[alpha_raw.code][\"weight\"].values\n",
    "benchmark = benchmark / benchmark.sum()\n",
    "constraint_risk = ['SIZE', 'SIZENL', 'BETA']\n",
    "total_risk_names = constraint_risk + industry_styles + ['total']"
   ]
  },
  {
   "cell_type": "markdown",
   "id": "f5286f97-9441-4006-8c7d-5d5107ac167b",
   "metadata": {},
   "source": [
    "我们将做控制以下控制：\n",
    "\n",
    "1. 所以个股相对于基准，偏离不超过2%；\n",
    "2. 所有行业板块，相对于基准偏离不超过3%；\n",
    "3. 三个风格因子的风格偏离，不高于50%；\n",
    "4. 杠杆率不低于80%，同时不高于120%\n",
    "\n",
    "这里我们选用的基准为沪深300指数权重（做归一化）; 用户也可以直接使用0作为基准，这样的化，就是一个long-short组合。\n",
    "\n",
    "下面进入我们整个环节中最复杂的一步，构建风险控制矩阵以及限制边界："
   ]
  },
  {
   "cell_type": "code",
   "execution_count": 96,
   "id": "ac9006da-3cdb-4d32-94d9-f3efc3375c7f",
   "metadata": {},
   "outputs": [],
   "source": [
    "risk_con = factor_loaing.loc[alpha_raw.code, industry_styles + [\"SIZE\", \"SIZENL\", \"BETA\", \"COUNTRY\"]]\n",
    "risk_con_matrix = risk_con.values\n",
    "benchmark_risk = risk_con_matrix.T @ benchmark\n",
    "clbound = np.array([-0.03] * len(industry_styles) + [-0.50, -0.50, -0.50] + [-0.20]) + benchmark_risk\n",
    "cubound = np.array([0.03] * len(industry_styles) + [0.50, 0.50, 0.50] + [0.20]) + benchmark_risk\n",
    "\n",
    "# 个股限制\n",
    "lbound = np.array([-0.02] * len(alpha_raw) + benchmark)\n",
    "ubound = np.array([0.02] * len(alpha_raw) + benchmark)\n",
    "\n",
    "risk_model = factor_model.get_risk_profile(alpha_raw.code.tolist())"
   ]
  },
  {
   "cell_type": "code",
   "execution_count": 97,
   "id": "06c9e4bc-5fe9-45ca-b39a-51ddd5f6b3ac",
   "metadata": {},
   "outputs": [],
   "source": [
    "# 我们这里使用一个带限制条件的优化器来解决这个组合优化问题：\n",
    "\n",
    "status, value, weights = mean_variance_builder(er, risk_model, benchmark, lbound, ubound, risk_con_matrix, (clbound, cubound))"
   ]
  },
  {
   "cell_type": "markdown",
   "id": "6015b5b9-7210-4112-8f14-25d048f1ebd9",
   "metadata": {},
   "source": [
    "让我们逐个检验限制条件是否被满足："
   ]
  },
  {
   "cell_type": "markdown",
   "id": "ffc15d00-6bb7-46ba-b8f7-82a727fe9009",
   "metadata": {},
   "source": [
    "1. 个股限制"
   ]
  },
  {
   "cell_type": "code",
   "execution_count": 98,
   "id": "25783923-176d-41d7-8f45-21cfc5c82401",
   "metadata": {},
   "outputs": [
    {
     "name": "stdout",
     "output_type": "stream",
     "text": [
      "个股偏移 MIN: -0.0200 - MAX: 0.0200\n"
     ]
    }
   ],
   "source": [
    "diff = weights - benchmark\n",
    "print(f\"个股偏移 MIN: {diff.min():.4f} - MAX: {diff.max():.4f}\") "
   ]
  },
  {
   "cell_type": "markdown",
   "id": "40673983-d8db-4d72-8167-bdd9c1b6ad3c",
   "metadata": {},
   "source": [
    "2. 行业偏离"
   ]
  },
  {
   "cell_type": "code",
   "execution_count": 99,
   "id": "fe2465df-5f43-48b5-8775-6a3c037bf15d",
   "metadata": {},
   "outputs": [
    {
     "name": "stdout",
     "output_type": "stream",
     "text": [
      "行业偏移 MIN: -0.0300 - MAX: 0.0300\n"
     ]
    }
   ],
   "source": [
    "indutry_diff = risk_con[industry_styles].values.T @ diff\n",
    "print(f\"行业偏移 MIN: {indutry_diff.min():.4f} - MAX: {indutry_diff.max():.4f}\") "
   ]
  },
  {
   "cell_type": "markdown",
   "id": "0831360f-b44d-4dbe-8cee-a08b16f1aa25",
   "metadata": {},
   "source": [
    "3. 风格偏移"
   ]
  },
  {
   "cell_type": "code",
   "execution_count": 100,
   "id": "99c30591-ec80-480b-98eb-47efb4a39185",
   "metadata": {},
   "outputs": [
    {
     "name": "stdout",
     "output_type": "stream",
     "text": [
      "风格偏移 MIN: -0.1853 - MAX: 0.2934\n"
     ]
    }
   ],
   "source": [
    "style_diff = risk_con[[\"SIZE\", \"SIZENL\", \"BETA\", \"COUNTRY\"]].values.T @ diff\n",
    "print(f\"风格偏移 MIN: {style_diff.min():.4f} - MAX: {style_diff.max():.4f}\") "
   ]
  },
  {
   "cell_type": "markdown",
   "id": "fdefd989-53b9-4804-aa50-1fbd61992cd0",
   "metadata": {},
   "source": [
    "4. 杠杆率"
   ]
  },
  {
   "cell_type": "code",
   "execution_count": 101,
   "id": "8c684053-fe6c-4211-be1b-c183414f9398",
   "metadata": {},
   "outputs": [
    {
     "name": "stdout",
     "output_type": "stream",
     "text": [
      "持仓 - 0.9900\n"
     ]
    }
   ],
   "source": [
    "print(f\"持仓 - {weights.sum():.4f}\") "
   ]
  },
  {
   "cell_type": "markdown",
   "id": "9e8ce8fa-1b52-4be7-a913-e88dad739987",
   "metadata": {},
   "source": [
    "5. 效用\n",
    "\n",
    "> **注意**: 这里为了节省篇幅，我们简化了效用计算，实际的效用还包括风险的调整。但是简单的直接考虑期望的变化，也能看到优化器的作用。"
   ]
  },
  {
   "cell_type": "code",
   "execution_count": 103,
   "id": "1b7f3c44-9808-424b-a764-79397e155b20",
   "metadata": {},
   "outputs": [
    {
     "name": "stdout",
     "output_type": "stream",
     "text": [
      "效用 优化前: 0.2485 - 优化后: 3.8402\n"
     ]
    }
   ],
   "source": [
    "print(f\"效用 优化前: {benchmark @ er:.4f} - 优化后: {weights @ er:.4f}\")"
   ]
  },
  {
   "cell_type": "markdown",
   "id": "6ca8dbf1-547f-4ff4-b49e-d4dcd1216243",
   "metadata": {},
   "source": [
    "## 四、后记"
   ]
  },
  {
   "cell_type": "markdown",
   "id": "a80a53a9-7108-4a21-8178-afbbd2629a95",
   "metadata": {},
   "source": [
    "这里我们非常细致的拆解了，使用风险因子模型，进行因子构造以及组合优化的过程。\n",
    "\n",
    "实际上，alpha-mind提供了直接使用上面的算法进行回测的功能，用户没有必要自己手写上面每一步。\n",
    "\n",
    "主要目的是通过这个例子，让用户了解alpha-mind因子建模的原理，鼓励用户自己基于alpha-mind的基础组件进行定制开发。本篇也无法涵盖alpha-mind在因子建模和组合优化上的所有功能。例如：对交易成本的控制等，留待以后的篇章向大家介绍。"
   ]
  },
  {
   "cell_type": "code",
   "execution_count": null,
   "id": "717d09a8-3fc6-47fb-a97f-4c382ccf75a9",
   "metadata": {},
   "outputs": [],
   "source": []
  }
 ],
 "metadata": {
  "kernelspec": {
   "display_name": "Python 3",
   "language": "python",
   "name": "python3"
  },
  "language_info": {
   "codemirror_mode": {
    "name": "ipython",
    "version": 3
   },
   "file_extension": ".py",
   "mimetype": "text/x-python",
   "name": "python",
   "nbconvert_exporter": "python",
   "pygments_lexer": "ipython3",
   "version": "3.8.11"
  }
 },
 "nbformat": 4,
 "nbformat_minor": 5
}
