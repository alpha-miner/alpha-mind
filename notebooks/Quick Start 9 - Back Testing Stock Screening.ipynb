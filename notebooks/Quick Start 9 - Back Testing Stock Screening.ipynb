{
 "cells": [
  {
   "cell_type": "markdown",
   "metadata": {},
   "source": [
    "# Alphamind新手入门之九：股票选股回测"
   ]
  },
  {
   "cell_type": "markdown",
   "metadata": {},
   "source": [
    "> 在本例中，使用公式选股并进行回测"
   ]
  },
  {
   "cell_type": "code",
   "execution_count": 1,
   "metadata": {},
   "outputs": [],
   "source": [
    "%matplotlib inline\n",
    "\n",
    "import os\n",
    "import datetime as dt\n",
    "import pandas as pd\n",
    "import numpy as np\n",
    "from PyFin.api import *\n",
    "from alphamind.api import *\n",
    "from matplotlib import pyplot as plt"
   ]
  },
  {
   "cell_type": "markdown",
   "metadata": {},
   "source": [
    "## 1. 参数设置\n",
    "----------------\n",
    "\n",
    "* 调仓频率：每周\n",
    "* 股票池  ：中证800\n",
    "* 起始日  ：2017-05-31\n",
    "* 结束日  ：2019-05-31\n",
    "* 业绩基准：沪深300"
   ]
  },
  {
   "cell_type": "code",
   "execution_count": 2,
   "metadata": {},
   "outputs": [],
   "source": [
    "freq = \"1w\"\n",
    "universe = Universe('zz800')\n",
    "engine = SqlEngine(os.environ['DB_URI'])\n",
    "start_date = '2017-05-31'\n",
    "end_date = '2019-05-31'\n",
    "benchmark_code = 300\n",
    "rebalance_dates = makeSchedule(start_date, end_date, freq, 'china.sse', BizDayConventions.Preceding)"
   ]
  },
  {
   "cell_type": "markdown",
   "metadata": {},
   "source": [
    "## 2. 选股公式\n",
    "-----------------------\n",
    "\n",
    "* 在每个调仓日获取`EMA5D`因子排序，最高的3支股票。"
   ]
  },
  {
   "cell_type": "code",
   "execution_count": 3,
   "metadata": {},
   "outputs": [],
   "source": [
    "formula = CSTopN(LAST('EMA5D'), 3)"
   ]
  },
  {
   "cell_type": "markdown",
   "metadata": {},
   "source": [
    "## 3. 计算过程\n",
    "----------------"
   ]
  },
  {
   "cell_type": "markdown",
   "metadata": {},
   "source": [
    "* 获取因子值以及行业信息"
   ]
  },
  {
   "cell_type": "code",
   "execution_count": 4,
   "metadata": {},
   "outputs": [
    {
     "name": "stdout",
     "output_type": "stream",
     "text": [
      "CPU times: user 1.9 s, sys: 196 ms, total: 2.09 s\n",
      "Wall time: 12.7 s\n"
     ]
    }
   ],
   "source": [
    "%%time\n",
    "factors = engine.fetch_factor_range(universe, {'alpha': formula}, dates=rebalance_dates)\n",
    "industries = engine.fetch_industry_range(universe, dates=rebalance_dates)"
   ]
  },
  {
   "cell_type": "markdown",
   "metadata": {},
   "source": [
    "* 因子选股并且进行获取相关股票每日收益"
   ]
  },
  {
   "cell_type": "code",
   "execution_count": 5,
   "metadata": {},
   "outputs": [
    {
     "name": "stdout",
     "output_type": "stream",
     "text": [
      "CPU times: user 5.64 s, sys: 553 ms, total: 6.19 s\n",
      "Wall time: 1min 10s\n"
     ]
    }
   ],
   "source": [
    "%%time\n",
    "chosen_stks = factors[factors.alpha == 1.]\n",
    "codes = chosen_stks.code.unique()\n",
    "stk_returns = engine.fetch_dx_return_range(universe, start_date, end_date)"
   ]
  },
  {
   "cell_type": "markdown",
   "metadata": {},
   "source": [
    "* 计算每日调仓结果以及收益"
   ]
  },
  {
   "cell_type": "code",
   "execution_count": 6,
   "metadata": {},
   "outputs": [
    {
     "name": "stdout",
     "output_type": "stream",
     "text": [
      "CPU times: user 814 ms, sys: 0 ns, total: 814 ms\n",
      "Wall time: 813 ms\n"
     ]
    }
   ],
   "source": [
    "%%time\n",
    "\n",
    "ret_dates = np.unique(stk_returns.trade_date)\n",
    "rebalance_dates = chosen_stks.trade_date.unique()\n",
    "\n",
    "rtn_groups = stk_returns.groupby('trade_date')\n",
    "industry_groups = industries.groupby('trade_date')\n",
    "stks_groups = chosen_stks.groupby('trade_date')\n",
    "\n",
    "portfolio_rtns = []\n",
    "portfolios = pd.DataFrame(columns=['code', 'weight', 'industry'])\n",
    "\n",
    "for ref_date, g in rtn_groups:\n",
    "    ref_date = ref_date.to_datetime64()\n",
    "    nearest_date = rebalance_dates[rebalance_dates <= ref_date][-1]\n",
    "    this_codes = stks_groups.get_group(nearest_date)['code'].tolist()\n",
    "    \n",
    "    next_day_rtn = g.loc[g.code.isin(this_codes), 'dx'].values\n",
    "    portfolio_nd_rtn = np.mean(next_day_rtn)\n",
    "    portfolio_rtns.append(portfolio_nd_rtn)\n",
    "    if ref_date in rebalance_dates:\n",
    "        this_industry = industry_groups.get_group(nearest_date).set_index('code')\n",
    "        this_df = pd.DataFrame(data={'code': this_codes,\n",
    "                                     'weight': np.ones(len(this_codes)) * 1. / len(this_codes),\n",
    "                                     'industry': this_industry.loc[this_codes, 'industry'].values})\n",
    "        this_df.index =[ref_date] * len(this_codes)\n",
    "        portfolios = portfolios.append(this_df)\n",
    "\n",
    "portfolio_rtns = pd.DataFrame({'ret': portfolio_rtns}, index=ret_dates)"
   ]
  },
  {
   "cell_type": "markdown",
   "metadata": {},
   "source": [
    "## 4. 表现展示\n",
    "-------------------\n",
    "\n",
    "### 4.1 日收益与回撤"
   ]
  },
  {
   "cell_type": "code",
   "execution_count": 7,
   "metadata": {},
   "outputs": [],
   "source": [
    "from PyFin.Math.Accumulators import MovingDrawdown"
   ]
  },
  {
   "cell_type": "code",
   "execution_count": 8,
   "metadata": {},
   "outputs": [
    {
     "name": "stdout",
     "output_type": "stream",
     "text": [
      "CPU times: user 2.46 ms, sys: 272 µs, total: 2.73 ms\n",
      "Wall time: 2.23 ms\n"
     ]
    }
   ],
   "source": [
    "%%time\n",
    "mv = MovingDrawdown(window=1000, x='ret')\n",
    "dds = []\n",
    "\n",
    "for r in portfolio_rtns['ret'].values:\n",
    "    mv.push({'ret': r})\n",
    "    dds.append(mv.value)\n",
    "\n",
    "portfolio_rtns['dd.'] = dds"
   ]
  },
  {
   "cell_type": "markdown",
   "metadata": {},
   "source": [
    "* 累积收益曲线 + 回撤曲线"
   ]
  },
  {
   "cell_type": "code",
   "execution_count": 9,
   "metadata": {},
   "outputs": [
    {
     "data": {
      "text/plain": [
       "(-0.6, 0.3)"
      ]
     },
     "execution_count": 9,
     "metadata": {},
     "output_type": "execute_result"
    },
    {
     "data": {
      "image/png": "[encoded data removed]",
      "text/plain": [
       "<Figure size 1008x504 with 1 Axes>"
      ]
     },
     "metadata": {
      "needs_background": "light"
     },
     "output_type": "display_data"
    }
   ],
   "source": [
    "portfolio_rtns['ret'].cumsum().plot(figsize=(14, 7))\n",
    "portfolio_rtns['dd.'].plot(kind='area')\n",
    "plt.legend(['ret', 'dd.'])\n",
    "plt.ylim([-0.6, 0.3])"
   ]
  },
  {
   "cell_type": "markdown",
   "metadata": {},
   "source": [
    "* 最大回撤、年化收益"
   ]
  },
  {
   "cell_type": "code",
   "execution_count": 10,
   "metadata": {},
   "outputs": [
    {
     "name": "stdout",
     "output_type": "stream",
     "text": [
      "最大回撤： 45.54%\n",
      "年化收益： 25.94%\n"
     ]
    }
   ],
   "source": [
    "print(\"最大回撤： {0:.2f}%\".format(-np.min(portfolio_rtns['dd.']) * 100.))\n",
    "print(\"年化收益： {0:.2f}%\".format(250 * np.mean(portfolio_rtns['ret']) * 100.))"
   ]
  },
  {
   "cell_type": "markdown",
   "metadata": {},
   "source": [
    "### 4.2 超额收益以及alpha"
   ]
  },
  {
   "cell_type": "code",
   "execution_count": 11,
   "metadata": {},
   "outputs": [
    {
     "name": "stdout",
     "output_type": "stream",
     "text": [
      "CPU times: user 58.7 ms, sys: 4.29 ms, total: 63 ms\n",
      "Wall time: 815 ms\n"
     ]
    }
   ],
   "source": [
    "%%time\n",
    "benchmark = engine.fetch_dx_return_index_range(benchmark_code, start_date, end_date)[['trade_date', 'dx']].set_index('trade_date')['dx']"
   ]
  },
  {
   "cell_type": "code",
   "execution_count": 12,
   "metadata": {},
   "outputs": [
    {
     "name": "stdout",
     "output_type": "stream",
     "text": [
      "年化超额收益： 23.50%\n"
     ]
    }
   ],
   "source": [
    "excess_ret = portfolio_rtns['ret'] - benchmark\n",
    "print(\"年化超额收益： {0:.2f}%\".format(250 * np.mean(excess_ret) * 100.))"
   ]
  },
  {
   "cell_type": "code",
   "execution_count": 13,
   "metadata": {},
   "outputs": [
    {
     "name": "stdout",
     "output_type": "stream",
     "text": [
      "年化alpha： 25.91%\n",
      "beta： 0.01\n",
      "CPU times: user 7.47 ms, sys: 0 ns, total: 7.47 ms\n",
      "Wall time: 2.03 ms\n"
     ]
    }
   ],
   "source": [
    "%%time\n",
    "\n",
    "p_rets = portfolio_rtns['ret'].values\n",
    "b_rets = benchmark.values\n",
    "x = np.concatenate([np.ones((len(b_rets),1)), b_rets.reshape((-1, 1))], axis=1)\n",
    "alpha, beta = np.linalg.solve(x.T @ x, x.T @ p_rets)\n",
    "print(\"年化alpha： {0:.2f}%\".format(250 * alpha * 100.))\n",
    "print(\"beta： {0:.2f}\".format(beta))"
   ]
  },
  {
   "cell_type": "markdown",
   "metadata": {},
   "source": [
    "### 4.3 月度收益"
   ]
  },
  {
   "cell_type": "code",
   "execution_count": 14,
   "metadata": {},
   "outputs": [
    {
     "data": {
      "text/plain": [
       "<matplotlib.legend.Legend at 0x7f13edaa1a60>"
      ]
     },
     "execution_count": 14,
     "metadata": {},
     "output_type": "execute_result"
    },
    {
     "data": {
      "image/png": "[encoded data removed]",
      "text/plain": [
       "<Figure size 1008x504 with 1 Axes>"
      ]
     },
     "metadata": {
      "needs_background": "light"
     },
     "output_type": "display_data"
    }
   ],
   "source": [
    "portfolio_rtns['ret'].resample('M').sum().plot(figsize=(14, 7), kind='bar')\n",
    "plt.legend(['ret'])"
   ]
  },
  {
   "cell_type": "markdown",
   "metadata": {},
   "source": [
    "### 4.4 行业分布"
   ]
  },
  {
   "cell_type": "code",
   "execution_count": 15,
   "metadata": {},
   "outputs": [
    {
     "data": {
      "text/html": [
       "<div>\n",
       "<style scoped>\n",
       "    .dataframe tbody tr th:only-of-type {\n",
       "        vertical-align: middle;\n",
       "    }\n",
       "\n",
       "    .dataframe tbody tr th {\n",
       "        vertical-align: top;\n",
       "    }\n",
       "\n",
       "    .dataframe thead th {\n",
       "        text-align: right;\n",
       "    }\n",
       "</style>\n",
       "<table border=\"1\" class=\"dataframe\">\n",
       "  <thead>\n",
       "    <tr style=\"text-align: right;\">\n",
       "      <th></th>\n",
       "      <th></th>\n",
       "      <th>code</th>\n",
       "      <th>weight</th>\n",
       "    </tr>\n",
       "    <tr>\n",
       "      <th>index</th>\n",
       "      <th>industry</th>\n",
       "      <th></th>\n",
       "      <th></th>\n",
       "    </tr>\n",
       "  </thead>\n",
       "  <tbody>\n",
       "    <tr>\n",
       "      <th rowspan=\"2\" valign=\"top\">2017-06-07</th>\n",
       "      <th>计算机</th>\n",
       "      <td>1</td>\n",
       "      <td>1</td>\n",
       "    </tr>\n",
       "    <tr>\n",
       "      <th>食品饮料</th>\n",
       "      <td>1</td>\n",
       "      <td>1</td>\n",
       "    </tr>\n",
       "    <tr>\n",
       "      <th rowspan=\"3\" valign=\"top\">2017-06-14</th>\n",
       "      <th>传媒</th>\n",
       "      <td>1</td>\n",
       "      <td>1</td>\n",
       "    </tr>\n",
       "    <tr>\n",
       "      <th>医药生物</th>\n",
       "      <td>1</td>\n",
       "      <td>1</td>\n",
       "    </tr>\n",
       "    <tr>\n",
       "      <th>食品饮料</th>\n",
       "      <td>1</td>\n",
       "      <td>1</td>\n",
       "    </tr>\n",
       "    <tr>\n",
       "      <th>...</th>\n",
       "      <th>...</th>\n",
       "      <td>...</td>\n",
       "      <td>...</td>\n",
       "    </tr>\n",
       "    <tr>\n",
       "      <th rowspan=\"2\" valign=\"top\">2019-05-29</th>\n",
       "      <th>医药生物</th>\n",
       "      <td>1</td>\n",
       "      <td>1</td>\n",
       "    </tr>\n",
       "    <tr>\n",
       "      <th>食品饮料</th>\n",
       "      <td>1</td>\n",
       "      <td>1</td>\n",
       "    </tr>\n",
       "    <tr>\n",
       "      <th rowspan=\"3\" valign=\"top\">2019-05-31</th>\n",
       "      <th>传媒</th>\n",
       "      <td>1</td>\n",
       "      <td>1</td>\n",
       "    </tr>\n",
       "    <tr>\n",
       "      <th>医药生物</th>\n",
       "      <td>1</td>\n",
       "      <td>1</td>\n",
       "    </tr>\n",
       "    <tr>\n",
       "      <th>食品饮料</th>\n",
       "      <td>1</td>\n",
       "      <td>1</td>\n",
       "    </tr>\n",
       "  </tbody>\n",
       "</table>\n",
       "<p>286 rows × 2 columns</p>\n",
       "</div>"
      ],
      "text/plain": [
       "                     code  weight\n",
       "index      industry              \n",
       "2017-06-07 计算机          1       1\n",
       "           食品饮料         1       1\n",
       "2017-06-14 传媒           1       1\n",
       "           医药生物         1       1\n",
       "           食品饮料         1       1\n",
       "...                   ...     ...\n",
       "2019-05-29 医药生物         1       1\n",
       "           食品饮料         1       1\n",
       "2019-05-31 传媒           1       1\n",
       "           医药生物         1       1\n",
       "           食品饮料         1       1\n",
       "\n",
       "[286 rows x 2 columns]"
      ]
     },
     "execution_count": 15,
     "metadata": {},
     "output_type": "execute_result"
    }
   ],
   "source": [
    "portfolios.reset_index().groupby(['index', 'industry']).count()"
   ]
  },
  {
   "cell_type": "markdown",
   "metadata": {},
   "source": [
    "### 4.5 换手率"
   ]
  },
  {
   "cell_type": "markdown",
   "metadata": {},
   "source": [
    "* 月换手直方图"
   ]
  },
  {
   "cell_type": "code",
   "execution_count": 16,
   "metadata": {},
   "outputs": [
    {
     "name": "stdout",
     "output_type": "stream",
     "text": [
      "CPU times: user 116 ms, sys: 4.51 ms, total: 121 ms\n",
      "Wall time: 116 ms\n"
     ]
    }
   ],
   "source": [
    "%%time\n",
    "\n",
    "p_groups = portfolios.groupby(level=0)\n",
    "\n",
    "previous_date = None\n",
    "previous_pos = None\n",
    "\n",
    "turn_over = []\n",
    "\n",
    "for ref_date, g in p_groups:\n",
    "    g = g.set_index('code')\n",
    "    if previous_date:\n",
    "        diff_pos = g['weight'].subtract(previous_pos, fill_value=0)\n",
    "        turn_over.append(diff_pos.abs().sum())\n",
    "    previous_date = ref_date\n",
    "    previous_pos = g['weight']\n",
    "\n",
    "turn_over = pd.Series(turn_over, index=portfolios.index.unique()[1:])"
   ]
  },
  {
   "cell_type": "code",
   "execution_count": 17,
   "metadata": {},
   "outputs": [
    {
     "data": {
      "text/plain": [
       "<AxesSubplot:>"
      ]
     },
     "execution_count": 17,
     "metadata": {},
     "output_type": "execute_result"
    },
    {
     "data": {
      "image/png": "[encoded data removed]",
      "text/plain": [
       "<Figure size 1152x504 with 1 Axes>"
      ]
     },
     "metadata": {
      "needs_background": "light"
     },
     "output_type": "display_data"
    }
   ],
   "source": [
    "turn_over.resample('M').sum().plot(kind='bar', figsize=(16, 7))"
   ]
  },
  {
   "cell_type": "code",
   "execution_count": null,
   "metadata": {},
   "outputs": [],
   "source": []
  }
 ],
 "metadata": {
  "kernelspec": {
   "display_name": "Python 3",
   "language": "python",
   "name": "python3"
  },
  "language_info": {
   "codemirror_mode": {
    "name": "ipython",
    "version": 3
   },
   "file_extension": ".py",
   "mimetype": "text/x-python",
   "name": "python",
   "nbconvert_exporter": "python",
   "pygments_lexer": "ipython3",
   "version": "3.8.8"
  }
 },
 "nbformat": 4,
 "nbformat_minor": 4
}
