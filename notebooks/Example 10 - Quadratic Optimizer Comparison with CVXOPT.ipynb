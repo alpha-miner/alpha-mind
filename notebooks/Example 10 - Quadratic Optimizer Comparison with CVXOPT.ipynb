{
 "cells": [
  {
   "cell_type": "markdown",
   "metadata": {},
   "source": [
    "* 请在环境变量中设置`DB_URI`指向数据库"
   ]
  },
  {
   "cell_type": "code",
   "execution_count": 1,
   "metadata": {},
   "outputs": [],
   "source": [
    "import os\n",
    "import numpy as np\n",
    "import pandas as pd\n",
    "from cvxpy import *\n",
    "from cvxopt import *\n",
    "from alphamind.api import *\n",
    "from alphamind.portfolio.optimizers import QuadraticOptimizer"
   ]
  },
  {
   "cell_type": "markdown",
   "metadata": {},
   "source": [
    "# Data Preparing\n",
    "--------------------------"
   ]
  },
  {
   "cell_type": "code",
   "execution_count": 2,
   "metadata": {},
   "outputs": [],
   "source": [
    "risk_penlty = 0.5\n",
    "ref_date = '2020-02-21'\n",
    "factor_name = \"EMA5D\"\n",
    "\n",
    "engine = SqlEngine(os.environ['DB_URI'])\n",
    "universe = Universe('hs300')\n",
    "codes = engine.fetch_codes(ref_date, universe)\n",
    "\n",
    "risk_cov, risk_exposure = engine.fetch_risk_model(ref_date, codes)\n",
    "factor = engine.fetch_factor(ref_date, factor_name, codes)\n",
    "\n",
    "total_data = pd.merge(factor, risk_exposure, on='code').dropna()\n",
    "all_styles = risk_styles + industry_styles + macro_styles\n",
    "\n",
    "risk_exposure_values = total_data[all_styles].values.astype(float)\n",
    "special_risk_values = total_data['srisk'].values.astype(float)\n",
    "risk_cov_values = risk_cov[all_styles].values\n",
    "\n",
    "sec_cov_values_full = risk_exposure_values @ risk_cov_values @ risk_exposure_values.T / 10000  + np.diag(special_risk_values ** 2) / 10000\n",
    "signal_full = total_data[factor_name].values"
   ]
  },
  {
   "cell_type": "code",
   "execution_count": 3,
   "metadata": {},
   "outputs": [],
   "source": [
    "n = 200\n",
    "\n",
    "sec_cov_values = sec_cov_values_full[:n, :n]\n",
    "signal = signal_full[:n]"
   ]
  },
  {
   "cell_type": "markdown",
   "metadata": {},
   "source": [
    "# Optimizing Weights\n",
    "-------------------------------------"
   ]
  },
  {
   "cell_type": "code",
   "execution_count": 4,
   "metadata": {},
   "outputs": [
    {
     "name": "stdout",
     "output_type": "stream",
     "text": [
      "CPU times: user 4.15 ms, sys: 725 µs, total: 4.88 ms\n",
      "Wall time: 1.2 ms\n"
     ]
    }
   ],
   "source": [
    "%%time\n",
    "w = Variable(n)\n",
    "\n",
    "lbound = 0.\n",
    "ubound = 1. / n * 20\n",
    "\n",
    "risk = sum_squares(multiply(special_risk_values[:n] / 100., w)) + quad_form((w.T @ risk_exposure_values[:n]).T, risk_cov_values[:n, :n] / 10000.)\n",
    "\n",
    "objective = Minimize(risk_penlty * risk  - signal @ w)\n",
    "constraints = [w >= lbound,\n",
    "               w <= ubound,\n",
    "               sum(w) == 1,]\n",
    "\n",
    "prob = Problem(objective, constraints)"
   ]
  },
  {
   "cell_type": "code",
   "execution_count": 5,
   "metadata": {},
   "outputs": [
    {
     "name": "stdout",
     "output_type": "stream",
     "text": [
      "===============================================================================\n",
      "                                     CVXPY                                     \n",
      "                                    v1.1.13                                    \n",
      "===============================================================================\n",
      "(CVXPY) Jul 03 11:34:16 AM: Your problem has 200 variables, 3 constraints, and 0 parameters.\n",
      "(CVXPY) Jul 03 11:34:16 AM: It is compliant with the following grammars: DCP, DQCP\n",
      "(CVXPY) Jul 03 11:34:17 AM: (If you need to solve this problem multiple times, but with different data, consider using parameters.)\n",
      "(CVXPY) Jul 03 11:34:17 AM: CVXPY will first compile your problem; then, it will invoke a numerical solver to obtain a solution.\n",
      "-------------------------------------------------------------------------------\n",
      "                                  Compilation                                  \n",
      "-------------------------------------------------------------------------------\n",
      "(CVXPY) Jul 03 11:34:17 AM: Compiling problem (target solver=OSQP).\n",
      "(CVXPY) Jul 03 11:34:17 AM: Reduction chain: CvxAttr2Constr -> Qp2SymbolicQp -> QpMatrixStuffing -> OSQP\n",
      "(CVXPY) Jul 03 11:34:17 AM: Applying reduction CvxAttr2Constr\n",
      "(CVXPY) Jul 03 11:34:17 AM: Applying reduction Qp2SymbolicQp\n",
      "(CVXPY) Jul 03 11:34:17 AM: Applying reduction QpMatrixStuffing\n",
      "(CVXPY) Jul 03 11:34:17 AM: Applying reduction OSQP\n",
      "(CVXPY) Jul 03 11:34:17 AM: Finished problem compilation (took 1.758e-02 seconds).\n",
      "-------------------------------------------------------------------------------\n",
      "                                Numerical solver                               \n",
      "-------------------------------------------------------------------------------\n",
      "(CVXPY) Jul 03 11:34:17 AM: Invoking solver OSQP  to obtain a solution.\n",
      "-----------------------------------------------------------------\n",
      "           OSQP v0.6.2  -  Operator Splitting QP Solver\n",
      "              (c) Bartolomeo Stellato,  Goran Banjac\n",
      "        University of Oxford  -  Stanford University 2021\n",
      "-----------------------------------------------------------------\n",
      "problem:  variables n = 439, constraints m = 640\n",
      "          nnz(P) + nnz(A) = 4419\n",
      "settings: linear system solver = qdldl,\n",
      "          eps_abs = 1.0e-05, eps_rel = 1.0e-05,\n",
      "          eps_prim_inf = 1.0e-04, eps_dual_inf = 1.0e-04,\n",
      "          rho = 1.00e-01 (adaptive),\n",
      "          sigma = 1.00e-06, alpha = 1.60, max_iter = 10000\n",
      "          check_termination: on (interval 25),\n",
      "          scaling: on, scaled_termination: off\n",
      "          warm start: on, polish: on, time_limit: off\n",
      "\n",
      "iter   objective    pri res    dua res    rho        time\n",
      "   1  -7.8878e+03   4.61e+00   6.68e+04   1.00e-01   1.45e-03s\n",
      " 125  -2.4830e+02   3.58e-07   2.76e-05   5.82e-01   5.68e-03s\n",
      "\n",
      "status:               solved\n",
      "solution polish:      unsuccessful\n",
      "number of iterations: 125\n",
      "optimal objective:    -248.2989\n",
      "run time:             7.15e-03s\n",
      "optimal rho estimate: 1.87e+00\n",
      "\n",
      "-------------------------------------------------------------------------------\n",
      "                                    Summary                                    \n",
      "-------------------------------------------------------------------------------\n",
      "(CVXPY) Jul 03 11:34:17 AM: Problem status: optimal\n",
      "(CVXPY) Jul 03 11:34:17 AM: Optimal value: -2.483e+02\n",
      "(CVXPY) Jul 03 11:34:17 AM: Compilation took 1.758e-02 seconds\n",
      "(CVXPY) Jul 03 11:34:17 AM: Solver (including time spent in interface) took 1.097e-02 seconds\n",
      "CPU times: user 155 ms, sys: 4.52 ms, total: 159 ms\n",
      "Wall time: 39.6 ms\n"
     ]
    },
    {
     "data": {
      "text/plain": [
       "-248.2989412452939"
      ]
     },
     "execution_count": 5,
     "metadata": {},
     "output_type": "execute_result"
    }
   ],
   "source": [
    "%%time\n",
    "prob.solve(verbose=True)"
   ]
  },
  {
   "cell_type": "code",
   "execution_count": 6,
   "metadata": {},
   "outputs": [
    {
     "data": {
      "text/plain": [
       "('optimal', -248.2989412452939)"
      ]
     },
     "execution_count": 6,
     "metadata": {},
     "output_type": "execute_result"
    }
   ],
   "source": [
    "prob.status, prob.value"
   ]
  },
  {
   "cell_type": "code",
   "execution_count": 7,
   "metadata": {},
   "outputs": [
    {
     "name": "stdout",
     "output_type": "stream",
     "text": [
      "===============================================================================\n",
      "                                     CVXPY                                     \n",
      "                                    v1.1.13                                    \n",
      "===============================================================================\n",
      "(CVXPY) Jul 03 11:34:17 AM: Your problem has 200 variables, 3 constraints, and 0 parameters.\n",
      "(CVXPY) Jul 03 11:34:17 AM: It is compliant with the following grammars: DCP, DQCP\n",
      "(CVXPY) Jul 03 11:34:17 AM: (If you need to solve this problem multiple times, but with different data, consider using parameters.)\n",
      "(CVXPY) Jul 03 11:34:17 AM: CVXPY will first compile your problem; then, it will invoke a numerical solver to obtain a solution.\n",
      "-------------------------------------------------------------------------------\n",
      "                                  Compilation                                  \n",
      "-------------------------------------------------------------------------------\n",
      "(CVXPY) Jul 03 11:34:17 AM: Compiling problem (target solver=ECOS).\n",
      "(CVXPY) Jul 03 11:34:17 AM: Reduction chain: Dcp2Cone -> CvxAttr2Constr -> ConeMatrixStuffing -> ECOS\n",
      "(CVXPY) Jul 03 11:34:17 AM: Applying reduction Dcp2Cone\n",
      "(CVXPY) Jul 03 11:34:17 AM: Applying reduction CvxAttr2Constr\n",
      "(CVXPY) Jul 03 11:34:17 AM: Applying reduction ConeMatrixStuffing\n",
      "(CVXPY) Jul 03 11:34:17 AM: Applying reduction ECOS\n",
      "(CVXPY) Jul 03 11:34:17 AM: Finished problem compilation (took 2.239e-02 seconds).\n",
      "-------------------------------------------------------------------------------\n",
      "                                Numerical solver                               \n",
      "-------------------------------------------------------------------------------\n",
      "(CVXPY) Jul 03 11:34:17 AM: Invoking solver ECOS  to obtain a solution.\n",
      "\n",
      "ECOS 2.0.7 - (C) embotech GmbH, Zurich Switzerland, 2012-15. Web: www.embotech.com/ECOS\n",
      "\n",
      "It     pcost       dcost      gap   pres   dres    k/t    mu     step   sigma     IR    |   BT\n",
      " 0  -2.156e+01  -1.165e+04  +2e+05  9e-01  2e-02  1e+00  6e+02    ---    ---    1  1  - |  -  - \n",
      " 1  +3.001e+02  -4.385e+03  +2e+05  3e-01  6e-03  2e+01  6e+02  0.1191  5e-01   2  2  2 |  0  0\n",
      " 2  -2.457e+03  -3.271e+04  +2e+05  2e+00  4e-02  2e+02  6e+02  0.0130  1e+00   2  2  3 |  0  0\n",
      " 3  -7.245e+02  -3.200e+03  +2e+05  3e-01  5e-03  1e+03  6e+02  0.1239  9e-01   2  2  2 |  0  0\n",
      " 4  -3.144e+02  -5.230e+02  +6e+04  4e-02  5e-04  2e+02  2e+02  0.8185  2e-01   2  2  2 |  0  0\n",
      " 5  -2.573e+02  -2.730e+02  +5e+03  3e-03  4e-05  2e+01  2e+01  0.9090  3e-03   1  2  2 |  0  0\n",
      " 6  -2.493e+02  -2.522e+02  +8e+02  5e-04  6e-06  3e+00  3e+00  0.8565  2e-02   1  2  2 |  0  0\n",
      " 7  -2.483e+02  -2.485e+02  +3e+01  2e-05  2e-07  4e-02  8e-02  0.9855  2e-02   1  2  2 |  0  0\n",
      " 8  -2.483e+02  -2.483e+02  +2e+00  1e-06  1e-08  3e-03  6e-03  0.9240  1e-03   1  1  1 |  0  0\n",
      " 9  -2.483e+02  -2.483e+02  +9e-02  4e-08  5e-10  3e-05  2e-04  0.9890  2e-02   1  2  2 |  0  0\n",
      "10  -2.483e+02  -2.483e+02  +1e-03  5e-10  5e-12  4e-07  2e-06  0.9890  1e-04   1  1  1 |  0  0\n",
      "11  -2.483e+02  -2.483e+02  +1e-05  8e-12  8e-14  5e-09  4e-08  0.9853  1e-04   1  1  1 |  0  0\n",
      "12  -2.483e+02  -2.483e+02  +3e-07  5e-13  2e-15  1e-10  8e-10  0.9775  1e-04   1  1  1 |  0  0\n",
      "\n",
      "OPTIMAL (within feastol=5.3e-13, reltol=1.3e-09, abstol=3.2e-07).\n",
      "Runtime: 0.016897 seconds.\n",
      "\n",
      "-------------------------------------------------------------------------------\n",
      "                                    Summary                                    \n",
      "-------------------------------------------------------------------------------\n",
      "(CVXPY) Jul 03 11:34:17 AM: Problem status: optimal\n",
      "(CVXPY) Jul 03 11:34:17 AM: Optimal value: -2.483e+02\n",
      "(CVXPY) Jul 03 11:34:17 AM: Compilation took 2.239e-02 seconds\n",
      "(CVXPY) Jul 03 11:34:17 AM: Solver (including time spent in interface) took 1.700e-02 seconds\n",
      "CPU times: user 183 ms, sys: 1.18 ms, total: 184 ms\n",
      "Wall time: 45.7 ms\n"
     ]
    },
    {
     "data": {
      "text/plain": [
       "-248.29896142282092"
      ]
     },
     "execution_count": 7,
     "metadata": {},
     "output_type": "execute_result"
    }
   ],
   "source": [
    "%%time\n",
    "prob.solve(verbose=True, solver='ECOS')"
   ]
  },
  {
   "cell_type": "code",
   "execution_count": 8,
   "metadata": {},
   "outputs": [
    {
     "data": {
      "text/plain": [
       "('optimal', -248.29896142282092)"
      ]
     },
     "execution_count": 8,
     "metadata": {},
     "output_type": "execute_result"
    }
   ],
   "source": [
    "prob.status, prob.value"
   ]
  },
  {
   "cell_type": "code",
   "execution_count": 9,
   "metadata": {},
   "outputs": [
    {
     "name": "stdout",
     "output_type": "stream",
     "text": [
      "     pcost       dcost       gap    pres   dres\n",
      " 0: -6.5797e+05 -3.3860e+04  1e+08  7e+03  5e-16\n",
      " 1: -1.7446e+04 -1.0601e+04  2e+06  1e+02  1e-13\n",
      " 2: -4.0149e+02 -1.0036e+04  3e+04  2e+00  2e-14\n",
      " 3: -1.8099e+02 -3.2793e+03  3e+03  2e-15  4e-14\n",
      " 4: -1.9534e+02 -7.5624e+02  6e+02  5e-16  6e-15\n",
      " 5: -2.1878e+02 -3.6280e+02  1e+02  5e-16  5e-16\n",
      " 6: -2.2458e+02 -3.2078e+02  1e+02  2e-16  5e-16\n",
      " 7: -2.3361e+02 -2.9012e+02  6e+01  2e-16  5e-16\n",
      " 8: -2.3634e+02 -2.7977e+02  4e+01  7e-16  5e-16\n",
      " 9: -2.3759e+02 -2.6601e+02  3e+01  4e-16  3e-16\n",
      "10: -2.4290e+02 -2.5586e+02  1e+01  2e-16  5e-16\n",
      "11: -2.4774e+02 -2.4901e+02  1e+00  4e-16  5e-16\n",
      "12: -2.4829e+02 -2.4831e+02  1e-02  7e-16  6e-16\n",
      "13: -2.4830e+02 -2.4830e+02  1e-04  7e-16  7e-16\n",
      "Optimal solution found.\n",
      "CPU times: user 52.2 ms, sys: 12 ms, total: 64.2 ms\n",
      "Wall time: 15.6 ms\n"
     ]
    }
   ],
   "source": [
    "%%time\n",
    "P = matrix(sec_cov_values)\n",
    "q = -matrix(signal)\n",
    "\n",
    "G = np.zeros((2*n, n))\n",
    "h = np.zeros(2*n)\n",
    "for i in range(n):\n",
    "    G[i, i] = 1.\n",
    "    h[i] = 1. / n * 20\n",
    "    G[i+n, i] = -1.\n",
    "    h[i+n] = 0.\n",
    "    \n",
    "G = matrix(G)\n",
    "h = matrix(h)\n",
    "    \n",
    "A = np.ones((1, n))\n",
    "b = np.ones(1)\n",
    "\n",
    "A = matrix(A)\n",
    "b = matrix(b)\n",
    "\n",
    "sol = solvers.qp(P, q, G, h, A, b)"
   ]
  },
  {
   "cell_type": "code",
   "execution_count": 10,
   "metadata": {},
   "outputs": [
    {
     "name": "stdout",
     "output_type": "stream",
     "text": [
      "-248.29896142298927\n",
      "optimal\n",
      "CPU times: user 158 ms, sys: 0 ns, total: 158 ms\n",
      "Wall time: 39.7 ms\n"
     ]
    }
   ],
   "source": [
    "%%time\n",
    "lbound = np.zeros(n)\n",
    "ubound = np.ones(n) * 20 / n\n",
    "cons_matrix = np.ones((1, n))\n",
    "clb = np.ones(1)\n",
    "cub = np.ones(1)\n",
    "\n",
    "cons_matrix = np.concatenate([cons_matrix, clb.reshape((-1, 1)), cub.reshape((-1, 1))], axis=1)\n",
    "qpopt = QuadraticOptimizer(objective=-signal,\n",
    "                           cons_matrix=cons_matrix,\n",
    "                           lbound=lbound,\n",
    "                           ubound=ubound,\n",
    "                           factor_cov=risk_cov_values[:n, :n] / 10000.,\n",
    "                           factor_load=risk_exposure_values[:n],\n",
    "                           factor_special=special_risk_values[:n] * special_risk_values[:n] / 10000.)\n",
    "print(qpopt.feval())\n",
    "print(qpopt.status())"
   ]
  },
  {
   "cell_type": "markdown",
   "metadata": {},
   "source": [
    "# Performace Timing\n",
    "-------------------------"
   ]
  },
  {
   "cell_type": "code",
   "execution_count": 11,
   "metadata": {},
   "outputs": [],
   "source": [
    "import datetime as dt"
   ]
  },
  {
   "cell_type": "code",
   "execution_count": 12,
   "metadata": {},
   "outputs": [],
   "source": [
    "def time_function(py_callable, n):\n",
    "    start = dt.datetime.now()\n",
    "    val = py_callable(n)\n",
    "    return (dt.datetime.now() - start).total_seconds(), val"
   ]
  },
  {
   "cell_type": "code",
   "execution_count": 13,
   "metadata": {},
   "outputs": [],
   "source": [
    "def cvxpy(n):\n",
    "    w = Variable(n)\n",
    "\n",
    "    lbound = 0.\n",
    "    ubound = 0.01\n",
    "    \n",
    "    risk = sum_squares(multiply(special_risk_values[:n] / 100., w)) + quad_form((w.T @ risk_exposure_values[:n]).T, risk_cov_values[:n, :n] / 10000.)\n",
    "\n",
    "    objective = Minimize(risk_penlty * risk  - signal @ w)\n",
    "    constraints = [w >= lbound,\n",
    "                   w <= ubound,\n",
    "                   sum(w) == 1,]\n",
    "\n",
    "    prob = Problem(objective, constraints)\n",
    "    prob.solve(verbose=False, solver='ECOS')\n",
    "    return prob.value"
   ]
  },
  {
   "cell_type": "code",
   "execution_count": 14,
   "metadata": {},
   "outputs": [],
   "source": [
    "def cvxopt(n):\n",
    "    P = matrix(sec_cov_values)\n",
    "    q = -matrix(signal)\n",
    "\n",
    "    G = np.zeros((2*n, n))\n",
    "    h = np.zeros(2*n)\n",
    "    for i in range(n):\n",
    "        G[i, i] = 1.\n",
    "        h[i] = 0.01\n",
    "        G[i+n, i] = -1.\n",
    "        h[i+n] = 0.\n",
    "\n",
    "    G = matrix(G)\n",
    "    h = matrix(h)\n",
    "\n",
    "    A = np.ones((1, n))\n",
    "    b = np.ones(1)\n",
    "\n",
    "    A = matrix(A)\n",
    "    b = matrix(b)\n",
    "    \n",
    "    solvers.options['show_progress'] = False\n",
    "    sol = solvers.qp(P, q, G, h, A, b)\n",
    "    return sol['primal objective']"
   ]
  },
  {
   "cell_type": "code",
   "execution_count": 15,
   "metadata": {},
   "outputs": [],
   "source": [
    "def alpha_mind(n):\n",
    "    lbound = np.zeros(n)\n",
    "    ubound = np.ones(n) * 0.01\n",
    "    cons_matrix = np.ones((1, n))\n",
    "    clb = np.ones(1)\n",
    "    cub = np.ones(1)\n",
    "    cons_matrix = np.concatenate([cons_matrix, clb.reshape((-1, 1)), cub.reshape((-1, 1))], axis=1)\n",
    "    qpopt = QuadraticOptimizer(objective=-signal,\n",
    "                               cons_matrix=cons_matrix,\n",
    "                               lbound=lbound,\n",
    "                               ubound=ubound,\n",
    "                               factor_cov=risk_cov_values[:n, :n] / 10000.,\n",
    "                               factor_load=risk_exposure_values[:n],\n",
    "                               factor_special=special_risk_values[:n] * special_risk_values[:n] / 10000.)\n",
    "    return qpopt.feval()"
   ]
  },
  {
   "cell_type": "code",
   "execution_count": 16,
   "metadata": {},
   "outputs": [
    {
     "name": "stdout",
     "output_type": "stream",
     "text": [
      "Scale(n)       cvxpy      cvxopt  alpha_mind\n",
      "100           0.0300      0.0035      0.0295\n",
      "200           0.0401      0.0109      0.0406\n",
      "300           0.0493      0.0241      0.0503\n"
     ]
    }
   ],
   "source": [
    "n_steps = list(range(100, 301, 100))\n",
    "cvxpy_times = [None] * len(n_steps)\n",
    "cvxopt_times = [None] * len(n_steps)\n",
    "alpha_mind_times = [None] * len(n_steps)\n",
    "print(\"{0:<8}{1:>12}{2:>12}{3:>12}\".format('Scale(n)', 'cvxpy', 'cvxopt', 'alpha_mind'))\n",
    "\n",
    "for i, n in enumerate(n_steps):\n",
    "    sec_cov_values = sec_cov_values_full[:n, :n]\n",
    "    signal = signal_full[:n]\n",
    "    cvxpy_times[i], val1 = time_function(cvxpy, n)\n",
    "    cvxopt_times[i], val2 = time_function(cvxopt, n)\n",
    "    alpha_mind_times[i], val3 = time_function(alpha_mind, n)\n",
    "    \n",
    "    np.testing.assert_almost_equal(val1, val2, 4)\n",
    "    np.testing.assert_almost_equal(val2, val3, 4)\n",
    "    \n",
    "    print(\"{0:<8}{1:>12.4f}{2:>12.4f}{3:>12.4f}\".format(n, cvxpy_times[i], cvxopt_times[i], alpha_mind_times[i]))"
   ]
  },
  {
   "cell_type": "code",
   "execution_count": null,
   "metadata": {},
   "outputs": [],
   "source": []
  }
 ],
 "metadata": {
  "kernelspec": {
   "display_name": "Python 3",
   "language": "python",
   "name": "python3"
  },
  "language_info": {
   "codemirror_mode": {
    "name": "ipython",
    "version": 3
   },
   "file_extension": ".py",
   "mimetype": "text/x-python",
   "name": "python",
   "nbconvert_exporter": "python",
   "pygments_lexer": "ipython3",
   "version": "3.8.8"
  },
  "varInspector": {
   "cols": {
    "lenName": 16,
    "lenType": 16,
    "lenVar": 40
   },
   "kernels_config": {
    "python": {
     "delete_cmd_postfix": "",
     "delete_cmd_prefix": "del ",
     "library": "var_list.py",
     "varRefreshCmd": "print(var_dic_list())"
    },
    "r": {
     "delete_cmd_postfix": ") ",
     "delete_cmd_prefix": "rm(",
     "library": "var_list.r",
     "varRefreshCmd": "cat(var_dic_list()) "
    }
   },
   "types_to_exclude": [
    "module",
    "function",
    "builtin_function_or_method",
    "instance",
    "_Feature"
   ],
   "window_display": false
  }
 },
 "nbformat": 4,
 "nbformat_minor": 4
}
