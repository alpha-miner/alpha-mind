{
 "cells": [
  {
   "cell_type": "markdown",
   "metadata": {},
   "source": [
    "# Step By Step 01 - 入门\n",
    "----------"
   ]
  },
  {
   "cell_type": "markdown",
   "metadata": {},
   "source": [
    "## 一、常用工具包\n",
    "\n",
    "在**alpha-mind**的使用中，经常会用到的工具包括：\n",
    "\n",
    "* *pandas*：主要用于表格数据处理；\n",
    "* *numpy*：高性能的向量计算工具；\n",
    "* *matplotlib*：作图工具。\n",
    "\n",
    "除此之外，我们还会用到一些比较专门的工具：\n",
    "\n",
    "* *scipy*：一些常用的数值算法；\n",
    "* *cvxpy*：优化工具包\n",
    "\n",
    "下面的代码验证以下包已经正确按照："
   ]
  },
  {
   "cell_type": "code",
   "execution_count": 1,
   "metadata": {},
   "outputs": [],
   "source": [
    "import numpy as np\n",
    "import pandas as pd\n",
    "from matplotlib import pyplot as plt\n",
    "import scipy\n",
    "import cvxpy"
   ]
  },
  {
   "cell_type": "markdown",
   "metadata": {},
   "source": [
    "### 二、**alpha-mind**\n",
    "\n",
    "**alpha-mind**是标准的python工具包，可以直接从**pip**安装：\n",
    "\n",
    "```bash\n",
    "$ pip install alpha-mind\n",
    "```"
   ]
  },
  {
   "cell_type": "code",
   "execution_count": 4,
   "metadata": {},
   "outputs": [
    {
     "data": {
      "text/plain": [
       "'0.3.1'"
      ]
     },
     "execution_count": 4,
     "metadata": {},
     "output_type": "execute_result"
    }
   ],
   "source": [
    "import alphamind as ad\n",
    "from alphamind.api import *\n",
    "ad.__version__"
   ]
  },
  {
   "cell_type": "markdown",
   "metadata": {},
   "source": [
    "可以验证alpha-mind已经安装成功，下面我们可以正式开始探索它的各种功能！"
   ]
  },
  {
   "cell_type": "code",
   "execution_count": null,
   "metadata": {},
   "outputs": [],
   "source": []
  }
 ],
 "metadata": {
  "kernelspec": {
   "display_name": "Python 3",
   "language": "python",
   "name": "python3"
  },
  "language_info": {
   "codemirror_mode": {
    "name": "ipython",
    "version": 3
   },
   "file_extension": ".py",
   "mimetype": "text/x-python",
   "name": "python",
   "nbconvert_exporter": "python",
   "pygments_lexer": "ipython3",
   "version": "3.8.8"
  }
 },
 "nbformat": 4,
 "nbformat_minor": 4
}
