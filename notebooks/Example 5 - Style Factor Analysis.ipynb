{
 "cells": [
  {
   "cell_type": "markdown",
   "metadata": {},
   "source": [
    "* 方法参考自 The Barra China Equity Model (CNE5)'s 文档\n",
    "\n",
    "* 请在环境变量中设置`DB_URI`指向数据库"
   ]
  },
  {
   "cell_type": "code",
   "execution_count": 1,
   "metadata": {},
   "outputs": [],
   "source": [
    "%matplotlib inline\n",
    "\n",
    "import os\n",
    "import numpy as np\n",
    "import pandas as pd\n",
    "from matplotlib import pyplot as plt\n",
    "from alphamind.api import *\n",
    "from PyFin.api import *\n",
    "from alphamind.analysis.crosssetctions import cross_section_analysis\n",
    "\n",
    "plt.style.use('ggplot')"
   ]
  },
  {
   "cell_type": "code",
   "execution_count": 2,
   "metadata": {},
   "outputs": [],
   "source": [
    "\"\"\"\n",
    "Back test parameter settings\n",
    "\"\"\"\n",
    "\n",
    "start_date = '2020-01-01'\n",
    "end_date = '2020-02-21'\n",
    "category = 'sw'\n",
    "level = 1\n",
    "freq = '10b'\n",
    "universe = Universe('hs300')\n",
    "\n",
    "horizon = map_freq(freq)\n",
    "ref_dates = makeSchedule(start_date, end_date, freq, 'china.sse')"
   ]
  },
  {
   "cell_type": "code",
   "execution_count": 3,
   "metadata": {},
   "outputs": [],
   "source": [
    "def risk_factor_analysis(factor_name):\n",
    "    data_source = os.environ['DB_URI']\n",
    "    engine = SqlEngine(data_source)\n",
    "    risk_names = list(set(risk_styles).difference({factor_name}))\n",
    "    industry_names = list(set(industry_styles).difference({factor_name}))\n",
    "    constraint_risk = risk_names + industry_names\n",
    "    \n",
    "    df = pd.DataFrame(columns=['ret', 'ic', 't.'], dtype=float)\n",
    "\n",
    "    for ref_date in ref_dates:\n",
    "        df.loc[ref_date, :] = cross_section_analysis(ref_date,\n",
    "                                                     factor_name,\n",
    "                                                     universe,\n",
    "                                                     horizon,\n",
    "                                                     constraint_risk,\n",
    "                                                     engine=engine)\n",
    "    df.index = pd.to_datetime(df.index)\n",
    "    return df"
   ]
  },
  {
   "cell_type": "code",
   "execution_count": 4,
   "metadata": {},
   "outputs": [],
   "source": [
    "candidates_factors = ['BETA', 'SIZE']"
   ]
  },
  {
   "cell_type": "code",
   "execution_count": 5,
   "metadata": {},
   "outputs": [
    {
     "name": "stderr",
     "output_type": "stream",
     "text": [
      "2021-07-03 11:34:39,965 - ALPHA_MIND - WARNING - winsorize_normal normally should not be done after neutralize\n",
      "2021-07-03 11:34:39,967 - ALPHA_MIND - INFO - 2020-01-02 00:00:00 is finished with 300 stocks for BETA\n",
      "2021-07-03 11:34:39,968 - ALPHA_MIND - INFO - 2020-01-02 00:00:00 risk_exposure: 3.207509232803705e-31\n",
      "2021-07-03 11:34:40,957 - ALPHA_MIND - WARNING - winsorize_normal normally should not be done after neutralize\n",
      "2021-07-03 11:34:40,959 - ALPHA_MIND - INFO - 2020-01-16 00:00:00 is finished with 300 stocks for BETA\n",
      "2021-07-03 11:34:40,960 - ALPHA_MIND - INFO - 2020-01-16 00:00:00 risk_exposure: 6.420490585482854e-31\n",
      "2021-07-03 11:34:41,729 - ALPHA_MIND - WARNING - winsorize_normal normally should not be done after neutralize\n",
      "2021-07-03 11:34:41,731 - ALPHA_MIND - INFO - 2020-02-07 00:00:00 is finished with 300 stocks for BETA\n",
      "2021-07-03 11:34:41,733 - ALPHA_MIND - INFO - 2020-02-07 00:00:00 risk_exposure: 4.227519029223244e-31\n",
      "2021-07-03 11:34:42,345 - ALPHA_MIND - WARNING - winsorize_normal normally should not be done after neutralize\n",
      "2021-07-03 11:34:42,347 - ALPHA_MIND - INFO - 2020-02-21 00:00:00 is finished with 300 stocks for BETA\n",
      "2021-07-03 11:34:42,348 - ALPHA_MIND - INFO - 2020-02-21 00:00:00 risk_exposure: 5.939637637197707e-32\n",
      "2021-07-03 11:34:43,047 - ALPHA_MIND - WARNING - winsorize_normal normally should not be done after neutralize\n",
      "2021-07-03 11:34:43,049 - ALPHA_MIND - INFO - 2020-01-02 00:00:00 is finished with 300 stocks for SIZE\n",
      "2021-07-03 11:34:43,050 - ALPHA_MIND - INFO - 2020-01-02 00:00:00 risk_exposure: 3.292749727735971e-31\n",
      "2021-07-03 11:34:43,657 - ALPHA_MIND - WARNING - winsorize_normal normally should not be done after neutralize\n",
      "2021-07-03 11:34:43,660 - ALPHA_MIND - INFO - 2020-01-16 00:00:00 is finished with 300 stocks for SIZE\n",
      "2021-07-03 11:34:43,662 - ALPHA_MIND - INFO - 2020-01-16 00:00:00 risk_exposure: 2.0543331651480913e-31\n",
      "2021-07-03 11:34:44,233 - ALPHA_MIND - WARNING - winsorize_normal normally should not be done after neutralize\n",
      "2021-07-03 11:34:44,235 - ALPHA_MIND - INFO - 2020-02-07 00:00:00 is finished with 300 stocks for SIZE\n",
      "2021-07-03 11:34:44,236 - ALPHA_MIND - INFO - 2020-02-07 00:00:00 risk_exposure: 3.4243410470687957e-31\n",
      "2021-07-03 11:34:45,682 - ALPHA_MIND - WARNING - winsorize_normal normally should not be done after neutralize\n",
      "2021-07-03 11:34:45,693 - ALPHA_MIND - INFO - 2020-02-21 00:00:00 is finished with 300 stocks for SIZE\n",
      "2021-07-03 11:34:45,696 - ALPHA_MIND - INFO - 2020-02-21 00:00:00 risk_exposure: 1.500359891717407e-31\n"
     ]
    },
    {
     "name": "stdout",
     "output_type": "stream",
     "text": [
      "CPU times: user 5.84 s, sys: 182 ms, total: 6.02 s\n",
      "Wall time: 7.34 s\n"
     ]
    }
   ],
   "source": [
    "%%time\n",
    "res = [risk_factor_analysis(factor) for factor in candidates_factors]"
   ]
  },
  {
   "cell_type": "code",
   "execution_count": 6,
   "metadata": {},
   "outputs": [],
   "source": [
    "df = pd.DataFrame()\n",
    "\n",
    "for f_name, data in zip(candidates_factors, res):\n",
    "    data['factor'] = f_name\n",
    "    df = df.append(data)"
   ]
  },
  {
   "cell_type": "code",
   "execution_count": 7,
   "metadata": {},
   "outputs": [
    {
     "data": {
      "text/html": [
       "<div>\n",
       "<style scoped>\n",
       "    .dataframe tbody tr th:only-of-type {\n",
       "        vertical-align: middle;\n",
       "    }\n",
       "\n",
       "    .dataframe tbody tr th {\n",
       "        vertical-align: top;\n",
       "    }\n",
       "\n",
       "    .dataframe thead th {\n",
       "        text-align: right;\n",
       "    }\n",
       "</style>\n",
       "<table border=\"1\" class=\"dataframe\">\n",
       "  <thead>\n",
       "    <tr style=\"text-align: right;\">\n",
       "      <th></th>\n",
       "      <th>abs t.</th>\n",
       "    </tr>\n",
       "    <tr>\n",
       "      <th>factor</th>\n",
       "      <th></th>\n",
       "    </tr>\n",
       "  </thead>\n",
       "  <tbody>\n",
       "    <tr>\n",
       "      <th>BETA</th>\n",
       "      <td>1.283202</td>\n",
       "    </tr>\n",
       "    <tr>\n",
       "      <th>SIZE</th>\n",
       "      <td>0.941047</td>\n",
       "    </tr>\n",
       "  </tbody>\n",
       "</table>\n",
       "</div>"
      ],
      "text/plain": [
       "          abs t.\n",
       "factor          \n",
       "BETA    1.283202\n",
       "SIZE    0.941047"
      ]
     },
     "execution_count": 7,
     "metadata": {},
     "output_type": "execute_result"
    }
   ],
   "source": [
    "df['abs t.'] = np.abs(df['t.'])\n",
    "df[['factor', 'abs t.']].groupby('factor').mean().sort_values('abs t.', ascending=False).head()"
   ]
  },
  {
   "cell_type": "code",
   "execution_count": null,
   "metadata": {},
   "outputs": [],
   "source": []
  }
 ],
 "metadata": {
  "kernelspec": {
   "display_name": "Python 3",
   "language": "python",
   "name": "python3"
  },
  "language_info": {
   "codemirror_mode": {
    "name": "ipython",
    "version": 3
   },
   "file_extension": ".py",
   "mimetype": "text/x-python",
   "name": "python",
   "nbconvert_exporter": "python",
   "pygments_lexer": "ipython3",
   "version": "3.8.8"
  },
  "varInspector": {
   "cols": {
    "lenName": 16,
    "lenType": 16,
    "lenVar": 40
   },
   "kernels_config": {
    "python": {
     "delete_cmd_postfix": "",
     "delete_cmd_prefix": "del ",
     "library": "var_list.py",
     "varRefreshCmd": "print(var_dic_list())"
    },
    "r": {
     "delete_cmd_postfix": ") ",
     "delete_cmd_prefix": "rm(",
     "library": "var_list.r",
     "varRefreshCmd": "cat(var_dic_list()) "
    }
   },
   "position": {
    "height": "607px",
    "left": "1093px",
    "right": "20px",
    "top": "94px",
    "width": "756px"
   },
   "types_to_exclude": [
    "module",
    "function",
    "builtin_function_or_method",
    "instance",
    "_Feature"
   ],
   "window_display": false
  }
 },
 "nbformat": 4,
 "nbformat_minor": 4
}
