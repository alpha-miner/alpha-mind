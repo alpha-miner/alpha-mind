{
 "cells": [
  {
   "cell_type": "markdown",
   "metadata": {},
   "source": [
    "# Step By Step 02 - 数据获取\n",
    "----------"
   ]
  },
  {
   "cell_type": "markdown",
   "metadata": {},
   "source": [
    "当前**alpha-mind**的数据都通过mysql数据进行存储。为了方便用户进行数据获取，**alpha-mind**提供了一个统一的数据接口`SqlEngine`"
   ]
  },
  {
   "cell_type": "markdown",
   "metadata": {},
   "source": [
    "## 一、 初始化数据接口\n",
    "\n",
    "用户可以使用一个有效的符合sqlachemy格式的数据库链接串就可以初始化`SqlEngine`:"
   ]
  },
  {
   "cell_type": "code",
   "execution_count": 1,
   "metadata": {},
   "outputs": [
    {
     "data": {
      "text/plain": [
       "<alphamind.data.engines.sqlengine.mysql.SqlEngine at 0x20930a66348>"
      ]
     },
     "execution_count": 1,
     "metadata": {},
     "output_type": "execute_result"
    }
   ],
   "source": [
    "import os\n",
    "from alphamind.api import *\n",
    "\n",
    "engine = SqlEngine(os.environ['DB_URI'])\n",
    "engine"
   ]
  },
  {
   "cell_type": "markdown",
   "metadata": {},
   "source": [
    "## 二、获取数据\n",
    "\n",
    "`SqlEngine`中所有的数据获取方法都以`fetch_`为开头："
   ]
  },
  {
   "cell_type": "code",
   "execution_count": 15,
   "metadata": {},
   "outputs": [
    {
     "data": {
      "text/plain": [
       "['fetch_benchmark',\n",
       " 'fetch_benchmark_range',\n",
       " 'fetch_codes',\n",
       " 'fetch_codes_range',\n",
       " 'fetch_data']"
      ]
     },
     "execution_count": 15,
     "metadata": {},
     "output_type": "execute_result"
    }
   ],
   "source": [
    "[method for method in dir(SqlEngine) if method.startswith(\"fetch\")][:5]"
   ]
  },
  {
   "cell_type": "markdown",
   "metadata": {},
   "source": [
    "### 2.1 获取行情相关数据"
   ]
  },
  {
   "cell_type": "code",
   "execution_count": 3,
   "metadata": {},
   "outputs": [],
   "source": [
    "# 仅获取某日"
   ]
  },
  {
   "cell_type": "code",
   "execution_count": 5,
   "metadata": {},
   "outputs": [
    {
     "data": {
      "text/html": [
       "<div>\n",
       "<style scoped>\n",
       "    .dataframe tbody tr th:only-of-type {\n",
       "        vertical-align: middle;\n",
       "    }\n",
       "\n",
       "    .dataframe tbody tr th {\n",
       "        vertical-align: top;\n",
       "    }\n",
       "\n",
       "    .dataframe thead th {\n",
       "        text-align: right;\n",
       "    }\n",
       "</style>\n",
       "<table border=\"1\" class=\"dataframe\">\n",
       "  <thead>\n",
       "    <tr style=\"text-align: right;\">\n",
       "      <th></th>\n",
       "      <th>code</th>\n",
       "      <th>dx</th>\n",
       "    </tr>\n",
       "  </thead>\n",
       "  <tbody>\n",
       "    <tr>\n",
       "      <th>0</th>\n",
       "      <td>2010000083</td>\n",
       "      <td>0.011997</td>\n",
       "    </tr>\n",
       "  </tbody>\n",
       "</table>\n",
       "</div>"
      ],
      "text/plain": [
       "         code        dx\n",
       "0  2010000083  0.011997"
      ]
     },
     "execution_count": 5,
     "metadata": {},
     "output_type": "execute_result"
    }
   ],
   "source": [
    "engine.fetch_dx_return(\"2020-07-30\", codes=[2010000083])"
   ]
  },
  {
   "cell_type": "code",
   "execution_count": 14,
   "metadata": {},
   "outputs": [
    {
     "data": {
      "text/html": [
       "<div>\n",
       "<style scoped>\n",
       "    .dataframe tbody tr th:only-of-type {\n",
       "        vertical-align: middle;\n",
       "    }\n",
       "\n",
       "    .dataframe tbody tr th {\n",
       "        vertical-align: top;\n",
       "    }\n",
       "\n",
       "    .dataframe thead th {\n",
       "        text-align: right;\n",
       "    }\n",
       "</style>\n",
       "<table border=\"1\" class=\"dataframe\">\n",
       "  <thead>\n",
       "    <tr style=\"text-align: right;\">\n",
       "      <th></th>\n",
       "      <th>trade_date</th>\n",
       "      <th>code</th>\n",
       "      <th>dx</th>\n",
       "    </tr>\n",
       "  </thead>\n",
       "  <tbody>\n",
       "    <tr>\n",
       "      <th>0</th>\n",
       "      <td>2020-07-30</td>\n",
       "      <td>2010000001</td>\n",
       "      <td>-0.003853</td>\n",
       "    </tr>\n",
       "    <tr>\n",
       "      <th>22</th>\n",
       "      <td>2020-07-30</td>\n",
       "      <td>2010000005</td>\n",
       "      <td>0.011332</td>\n",
       "    </tr>\n",
       "    <tr>\n",
       "      <th>44</th>\n",
       "      <td>2020-07-30</td>\n",
       "      <td>2010000010</td>\n",
       "      <td>-0.006017</td>\n",
       "    </tr>\n",
       "    <tr>\n",
       "      <th>66</th>\n",
       "      <td>2020-07-30</td>\n",
       "      <td>2010000011</td>\n",
       "      <td>0.000000</td>\n",
       "    </tr>\n",
       "    <tr>\n",
       "      <th>88</th>\n",
       "      <td>2020-07-30</td>\n",
       "      <td>2010000012</td>\n",
       "      <td>-0.004255</td>\n",
       "    </tr>\n",
       "    <tr>\n",
       "      <th>...</th>\n",
       "      <td>...</td>\n",
       "      <td>...</td>\n",
       "      <td>...</td>\n",
       "    </tr>\n",
       "    <tr>\n",
       "      <th>6511</th>\n",
       "      <td>2020-08-28</td>\n",
       "      <td>2010031542</td>\n",
       "      <td>-0.003316</td>\n",
       "    </tr>\n",
       "    <tr>\n",
       "      <th>6533</th>\n",
       "      <td>2020-08-28</td>\n",
       "      <td>2010031616</td>\n",
       "      <td>-0.007634</td>\n",
       "    </tr>\n",
       "    <tr>\n",
       "      <th>6555</th>\n",
       "      <td>2020-08-28</td>\n",
       "      <td>2010031720</td>\n",
       "      <td>0.002401</td>\n",
       "    </tr>\n",
       "    <tr>\n",
       "      <th>6577</th>\n",
       "      <td>2020-08-28</td>\n",
       "      <td>2010031773</td>\n",
       "      <td>-0.012904</td>\n",
       "    </tr>\n",
       "    <tr>\n",
       "      <th>6599</th>\n",
       "      <td>2020-08-28</td>\n",
       "      <td>2010031963</td>\n",
       "      <td>0.001607</td>\n",
       "    </tr>\n",
       "  </tbody>\n",
       "</table>\n",
       "<p>6600 rows × 3 columns</p>\n",
       "</div>"
      ],
      "text/plain": [
       "     trade_date        code        dx\n",
       "0    2020-07-30  2010000001 -0.003853\n",
       "22   2020-07-30  2010000005  0.011332\n",
       "44   2020-07-30  2010000010 -0.006017\n",
       "66   2020-07-30  2010000011  0.000000\n",
       "88   2020-07-30  2010000012 -0.004255\n",
       "...         ...         ...       ...\n",
       "6511 2020-08-28  2010031542 -0.003316\n",
       "6533 2020-08-28  2010031616 -0.007634\n",
       "6555 2020-08-28  2010031720  0.002401\n",
       "6577 2020-08-28  2010031773 -0.012904\n",
       "6599 2020-08-28  2010031963  0.001607\n",
       "\n",
       "[6600 rows x 3 columns]"
      ]
     },
     "execution_count": 14,
     "metadata": {},
     "output_type": "execute_result"
    }
   ],
   "source": [
    "# 获取某个时间段\n",
    "# 获取沪深300成分股\n",
    "# 下面的例子可以获取一个月的每日收益\n",
    "\n",
    "universe = Universe(\"HS300\")\n",
    "engine.fetch_dx_return_range(universe, \"2020-07-30\", \"2020-08-30\")"
   ]
  },
  {
   "cell_type": "code",
   "execution_count": null,
   "metadata": {},
   "outputs": [],
   "source": []
  }
 ],
 "metadata": {
  "kernelspec": {
   "display_name": "Python 3",
   "language": "python",
   "name": "python3"
  },
  "language_info": {
   "codemirror_mode": {
    "name": "ipython",
    "version": 3
   },
   "file_extension": ".py",
   "mimetype": "text/x-python",
   "name": "python",
   "nbconvert_exporter": "python",
   "pygments_lexer": "ipython3",
   "version": "3.7.9"
  }
 },
 "nbformat": 4,
 "nbformat_minor": 4
}