{
 "cells": [
  {
   "cell_type": "markdown",
   "metadata": {
    "collapsed": true
   },
   "source": [
    "alpha-mind的portfolio文件夹提供了构建组合的工具函数。\n",
    "- 不同的构建方式实质上对应了不同的优化问题。\n",
    "- 该文件夹报告的构建方式包括线性构建、多空构建"
   ]
  },
  {
   "cell_type": "markdown",
   "metadata": {},
   "source": [
    "### 线性构建： *linear_builder*\n",
    "- 目标: 在线性约束下最大化组合的预期收益率。\n",
    "- 线性约束包括\n",
    "  - 标的权重的上下限 *lbound, ubound*\n",
    "  - 组合风险暴露的上下限 *risk_target* : 函数内部会以因子矩阵乘以权重得到组合的风险暴露。 \n",
    "  - 仓位调整的换手率上限(换手率以目标权重和当前权重向量的一范数表示，即差的绝对值之和) *turn_over_target*"
   ]
  },
  {
   "cell_type": "code",
   "execution_count": 16,
   "metadata": {},
   "outputs": [
    {
     "name": "stdout",
     "output_type": "stream",
     "text": [
      "Optimization status - optimal\n",
      "Optimal expect return - 0.4800809979552383\n",
      "Optimial portfolio weights - [-5.03898456e-14  7.50000000e-02  1.75000000e-01  2.50000000e-01\n",
      "  5.00000000e-01]\n",
      "Initial portfolio weights - [0.    0.125 0.125 0.25  0.5  ]\n",
      "Turn over amount - 0.10000000000010972\n"
     ]
    }
   ],
   "source": [
    "import numpy as np\n",
    "from alphamind.portfolio.linearbuilder import linear_builder\n",
    "\n",
    "\"\"\"\n",
    "问题初始化\n",
    "\"\"\"\n",
    "\n",
    "# 假设有5个标的\n",
    "n = 5\n",
    "\n",
    "# 假设当前标的的权重\n",
    "current_pos = np.random.randint(0, n, size=n)\n",
    "current_pos = current_pos / current_pos.sum() \n",
    "\n",
    "# 假设标的预期收益向量\n",
    "expect_return = np.random.randn(n)\n",
    "\n",
    "# 假设标的风险因子矩阵, 仅有一个风险因子\n",
    "risk_factors = np.ones((n, 1))\n",
    "\n",
    "# 约束条件\n",
    "# 约束条件1 - 标的权重的上下限\n",
    "weight_lb = np.zeros(n)\n",
    "weight_ub = 0.5 * np.ones(n)\n",
    "\n",
    "# 限制条件2 - 组合风险暴露的上下限\n",
    "risk_lbound = np.ones(1)\n",
    "risk_ubound = np.ones(1)\n",
    "\n",
    "# 限制条件3 - 仓位调整的换手率上限（下限为0，故无需设置）\n",
    "turn_over_target = 0.1\n",
    "\n",
    "\"\"\"\n",
    "问题求解\n",
    "\"\"\"\n",
    "status, fvalue, x_values = linear_builder(expect_return,\n",
    "                                          weight_lb,\n",
    "                                          weight_ub,\n",
    "                                          risk_factors,\n",
    "                                          (risk_lbound, risk_ubound),\n",
    "                                          turn_over_target,\n",
    "                                          current_pos,\n",
    "                                          method='ecos')\n",
    "\n",
    "\n",
    "print('Optimization status - {}'.format(status))\n",
    "print('Optimal expect return - {}'.format(fvalue))\n",
    "print('Optimial portfolio weights - {}'.format(x_values))\n",
    "print('Initial portfolio weights - {}'.format(current_pos))\n",
    "print('Turn over amount - {}'.format(np.abs(x_values - current_pos).sum()))"
   ]
  },
  {
   "cell_type": "markdown",
   "metadata": {},
   "source": [
    "### 多空构建: *long_short_builder*\n",
    "- 根据给定组数*(n_bins)*，按从小达到的顺序进行分组，返回每个因子属于的组别。"
   ]
  },
  {
   "cell_type": "code",
   "execution_count": null,
   "metadata": {
    "collapsed": true
   },
   "outputs": [],
   "source": []
  }
 ],
 "metadata": {
  "kernelspec": {
   "display_name": "Python 3",
   "language": "python",
   "name": "python3"
  },
  "language_info": {
   "codemirror_mode": {
    "name": "ipython",
    "version": 3
   },
   "file_extension": ".py",
   "mimetype": "text/x-python",
   "name": "python",
   "nbconvert_exporter": "python",
   "pygments_lexer": "ipython3",
   "version": "3.6.5"
  }
 },
 "nbformat": 4,
 "nbformat_minor": 1
}
