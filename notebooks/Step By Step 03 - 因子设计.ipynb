{
 "cells": [
  {
   "cell_type": "markdown",
   "metadata": {},
   "source": [
    "# Step By Step 03 - 因子设计\n",
    "----------\n",
    "\n",
    "任何用户在进行因子设计的时候，都会需要进行因子的变换。**alpha-mind**依托**finance-python**完成因子的组合变换，极大的提升了因子设计的效率；|"
   ]
  },
  {
   "cell_type": "markdown",
   "metadata": {},
   "source": [
    "## 一、基础因子获取"
   ]
  },
  {
   "cell_type": "code",
   "execution_count": 1,
   "metadata": {},
   "outputs": [
    {
     "data": {
      "text/plain": [
       "<alphamind.data.engines.sqlengine.mysql.SqlEngine at 0x23093d6cb08>"
      ]
     },
     "execution_count": 1,
     "metadata": {},
     "output_type": "execute_result"
    }
   ],
   "source": [
    "import os\n",
    "from alphamind.api import *\n",
    "\n",
    "engine = SqlEngine(os.environ['DB_URI'])\n",
    "engine"
   ]
  },
  {
   "cell_type": "code",
   "execution_count": 2,
   "metadata": {},
   "outputs": [
    {
     "data": {
      "text/html": [
       "<div>\n",
       "<style scoped>\n",
       "    .dataframe tbody tr th:only-of-type {\n",
       "        vertical-align: middle;\n",
       "    }\n",
       "\n",
       "    .dataframe tbody tr th {\n",
       "        vertical-align: top;\n",
       "    }\n",
       "\n",
       "    .dataframe thead th {\n",
       "        text-align: right;\n",
       "    }\n",
       "</style>\n",
       "<table border=\"1\" class=\"dataframe\">\n",
       "  <thead>\n",
       "    <tr style=\"text-align: right;\">\n",
       "      <th></th>\n",
       "      <th>EMA5D</th>\n",
       "      <th>code</th>\n",
       "      <th>chgPct</th>\n",
       "      <th>secShortName</th>\n",
       "    </tr>\n",
       "  </thead>\n",
       "  <tbody>\n",
       "    <tr>\n",
       "      <th>0</th>\n",
       "      <td>5.781778</td>\n",
       "      <td>2010000083</td>\n",
       "      <td>0.5199</td>\n",
       "      <td>广州发展</td>\n",
       "    </tr>\n",
       "  </tbody>\n",
       "</table>\n",
       "</div>"
      ],
      "text/plain": [
       "      EMA5D        code  chgPct secShortName\n",
       "0  5.781778  2010000083  0.5199         广州发展"
      ]
     },
     "execution_count": 2,
     "metadata": {},
     "output_type": "execute_result"
    }
   ],
   "source": [
    "engine.fetch_factor(\"2020-07-30\", factors=[\"EMA5D\"], codes=[2010000083])"
   ]
  },
  {
   "cell_type": "code",
   "execution_count": 3,
   "metadata": {},
   "outputs": [
    {
     "data": {
      "text/html": [
       "<div>\n",
       "<style scoped>\n",
       "    .dataframe tbody tr th:only-of-type {\n",
       "        vertical-align: middle;\n",
       "    }\n",
       "\n",
       "    .dataframe tbody tr th {\n",
       "        vertical-align: top;\n",
       "    }\n",
       "\n",
       "    .dataframe thead th {\n",
       "        text-align: right;\n",
       "    }\n",
       "</style>\n",
       "<table border=\"1\" class=\"dataframe\">\n",
       "  <thead>\n",
       "    <tr style=\"text-align: right;\">\n",
       "      <th></th>\n",
       "      <th>EMV6D</th>\n",
       "      <th>code</th>\n",
       "      <th>chgPct</th>\n",
       "      <th>secShortName</th>\n",
       "    </tr>\n",
       "  </thead>\n",
       "  <tbody>\n",
       "    <tr>\n",
       "      <th>0</th>\n",
       "      <td>-0.004164</td>\n",
       "      <td>2010000083</td>\n",
       "      <td>0.5199</td>\n",
       "      <td>广州发展</td>\n",
       "    </tr>\n",
       "  </tbody>\n",
       "</table>\n",
       "</div>"
      ],
      "text/plain": [
       "      EMV6D        code  chgPct secShortName\n",
       "0 -0.004164  2010000083  0.5199         广州发展"
      ]
     },
     "execution_count": 3,
     "metadata": {},
     "output_type": "execute_result"
    }
   ],
   "source": [
    "engine.fetch_factor(\"2020-07-30\", factors=[\"EMV6D\"], codes=[2010000083])"
   ]
  },
  {
   "cell_type": "markdown",
   "metadata": {},
   "source": [
    "## 二、四则运算"
   ]
  },
  {
   "cell_type": "code",
   "execution_count": 4,
   "metadata": {},
   "outputs": [],
   "source": [
    "from PyFin.api import *"
   ]
  },
  {
   "cell_type": "code",
   "execution_count": 5,
   "metadata": {},
   "outputs": [
    {
     "data": {
      "text/html": [
       "<div>\n",
       "<style scoped>\n",
       "    .dataframe tbody tr th:only-of-type {\n",
       "        vertical-align: middle;\n",
       "    }\n",
       "\n",
       "    .dataframe tbody tr th {\n",
       "        vertical-align: top;\n",
       "    }\n",
       "\n",
       "    .dataframe thead th {\n",
       "        text-align: right;\n",
       "    }\n",
       "</style>\n",
       "<table border=\"1\" class=\"dataframe\">\n",
       "  <thead>\n",
       "    <tr style=\"text-align: right;\">\n",
       "      <th></th>\n",
       "      <th>added</th>\n",
       "      <th>code</th>\n",
       "      <th>chgPct</th>\n",
       "      <th>secShortName</th>\n",
       "    </tr>\n",
       "  </thead>\n",
       "  <tbody>\n",
       "    <tr>\n",
       "      <th>0</th>\n",
       "      <td>5.777614</td>\n",
       "      <td>2010000083</td>\n",
       "      <td>0.5199</td>\n",
       "      <td>广州发展</td>\n",
       "    </tr>\n",
       "  </tbody>\n",
       "</table>\n",
       "</div>"
      ],
      "text/plain": [
       "      added        code  chgPct secShortName\n",
       "0  5.777614  2010000083  0.5199         广州发展"
      ]
     },
     "execution_count": 5,
     "metadata": {},
     "output_type": "execute_result"
    }
   ],
   "source": [
    "# 支持直观的加、减、乘、除\n",
    "\n",
    "added_factor = LAST(\"EMA5D\") + LAST(\"EMV6D\")\n",
    "engine.fetch_factor(\"2020-07-30\", factors={\"added\": added_factor}, codes=[2010000083])"
   ]
  },
  {
   "cell_type": "code",
   "execution_count": 6,
   "metadata": {},
   "outputs": [
    {
     "data": {
      "text/html": [
       "<div>\n",
       "<style scoped>\n",
       "    .dataframe tbody tr th:only-of-type {\n",
       "        vertical-align: middle;\n",
       "    }\n",
       "\n",
       "    .dataframe tbody tr th {\n",
       "        vertical-align: top;\n",
       "    }\n",
       "\n",
       "    .dataframe thead th {\n",
       "        text-align: right;\n",
       "    }\n",
       "</style>\n",
       "<table border=\"1\" class=\"dataframe\">\n",
       "  <thead>\n",
       "    <tr style=\"text-align: right;\">\n",
       "      <th></th>\n",
       "      <th>complex</th>\n",
       "      <th>code</th>\n",
       "      <th>chgPct</th>\n",
       "      <th>secShortName</th>\n",
       "    </tr>\n",
       "  </thead>\n",
       "  <tbody>\n",
       "    <tr>\n",
       "      <th>0</th>\n",
       "      <td>-0.016202</td>\n",
       "      <td>2010000083</td>\n",
       "      <td>0.5199</td>\n",
       "      <td>广州发展</td>\n",
       "    </tr>\n",
       "  </tbody>\n",
       "</table>\n",
       "</div>"
      ],
      "text/plain": [
       "    complex        code  chgPct secShortName\n",
       "0 -0.016202  2010000083  0.5199         广州发展"
      ]
     },
     "execution_count": 6,
     "metadata": {},
     "output_type": "execute_result"
    }
   ],
   "source": [
    "# 表达式可以任意长\n",
    "\n",
    "complex_factor = LAST(\"EMA5D\") * LAST(\"EMV6D\") / 2 + LAST(\"EMV6D\")\n",
    "engine.fetch_factor(\"2020-07-30\", factors={\"complex\": complex_factor}, codes=[2010000083])"
   ]
  },
  {
   "cell_type": "markdown",
   "metadata": {},
   "source": [
    "## 三、基于窗口的滚动计算\n",
    "\n",
    "金融计算必然设计时间序列处理，而时间处理方面，必然设计滚动运算。而这方面，**finance-python**也提供了完整的支持"
   ]
  },
  {
   "cell_type": "code",
   "execution_count": 7,
   "metadata": {},
   "outputs": [
    {
     "data": {
      "text/html": [
       "<div>\n",
       "<style scoped>\n",
       "    .dataframe tbody tr th:only-of-type {\n",
       "        vertical-align: middle;\n",
       "    }\n",
       "\n",
       "    .dataframe tbody tr th {\n",
       "        vertical-align: top;\n",
       "    }\n",
       "\n",
       "    .dataframe thead th {\n",
       "        text-align: right;\n",
       "    }\n",
       "</style>\n",
       "<table border=\"1\" class=\"dataframe\">\n",
       "  <thead>\n",
       "    <tr style=\"text-align: right;\">\n",
       "      <th></th>\n",
       "      <th>sma_EMA5D</th>\n",
       "      <th>code</th>\n",
       "      <th>chgPct</th>\n",
       "      <th>secShortName</th>\n",
       "    </tr>\n",
       "  </thead>\n",
       "  <tbody>\n",
       "    <tr>\n",
       "      <th>0</th>\n",
       "      <td>-0.036377</td>\n",
       "      <td>2010000083</td>\n",
       "      <td>0.5199</td>\n",
       "      <td>广州发展</td>\n",
       "    </tr>\n",
       "  </tbody>\n",
       "</table>\n",
       "</div>"
      ],
      "text/plain": [
       "   sma_EMA5D        code  chgPct secShortName\n",
       "0  -0.036377  2010000083  0.5199         广州发展"
      ]
     },
     "execution_count": 7,
     "metadata": {},
     "output_type": "execute_result"
    }
   ],
   "source": [
    "# 一个标准的滚动平均\n",
    "\n",
    "short_window = 10\n",
    "long_window = 60\n",
    "sma = MACD(short=short_window, long=long_window, x=\"EMA5D\")\n",
    "engine.fetch_factor(\"2020-07-30\", factors={\"sma_EMA5D\": sma}, codes=[2010000083], warm_start=long_window)"
   ]
  },
  {
   "cell_type": "markdown",
   "metadata": {},
   "source": [
    "## 四、基于截面的处理\n",
    "\n",
    "基于金融因子分析，经常需要比较个股之间的差别。这里面涉及到的就是截面的处理；比如：沪深300个股在某个指标上面的排序等："
   ]
  },
  {
   "cell_type": "code",
   "execution_count": 8,
   "metadata": {},
   "outputs": [
    {
     "data": {
      "text/plain": [
       "['2010000001', '2010000005', '2010000010', '2010000011', '2010000012']"
      ]
     },
     "execution_count": 8,
     "metadata": {},
     "output_type": "execute_result"
    }
   ],
   "source": [
    "# 我们以沪深300成分股为例\n",
    "\n",
    "universe = Universe(\"HS300\")\n",
    "codes = engine.fetch_codes(\"2020-07-30\", universe)  # 获取沪深300成分股\n",
    "codes[:5]"
   ]
  },
  {
   "cell_type": "code",
   "execution_count": 9,
   "metadata": {},
   "outputs": [
    {
     "data": {
      "text/html": [
       "<div>\n",
       "<style scoped>\n",
       "    .dataframe tbody tr th:only-of-type {\n",
       "        vertical-align: middle;\n",
       "    }\n",
       "\n",
       "    .dataframe tbody tr th {\n",
       "        vertical-align: top;\n",
       "    }\n",
       "\n",
       "    .dataframe thead th {\n",
       "        text-align: right;\n",
       "    }\n",
       "</style>\n",
       "<table border=\"1\" class=\"dataframe\">\n",
       "  <thead>\n",
       "    <tr style=\"text-align: right;\">\n",
       "      <th></th>\n",
       "      <th>cross_rank</th>\n",
       "      <th>code</th>\n",
       "      <th>chgPct</th>\n",
       "      <th>secShortName</th>\n",
       "    </tr>\n",
       "  </thead>\n",
       "  <tbody>\n",
       "    <tr>\n",
       "      <th>0</th>\n",
       "      <td>98.0</td>\n",
       "      <td>2010000001</td>\n",
       "      <td>-1.0466</td>\n",
       "      <td>浦发银行</td>\n",
       "    </tr>\n",
       "    <tr>\n",
       "      <th>1</th>\n",
       "      <td>130.0</td>\n",
       "      <td>2010000005</td>\n",
       "      <td>-2.0237</td>\n",
       "      <td>白云机场</td>\n",
       "    </tr>\n",
       "    <tr>\n",
       "      <th>2</th>\n",
       "      <td>264.0</td>\n",
       "      <td>2010000010</td>\n",
       "      <td>-1.7115</td>\n",
       "      <td>上海机场</td>\n",
       "    </tr>\n",
       "    <tr>\n",
       "      <th>3</th>\n",
       "      <td>1.0</td>\n",
       "      <td>2010000011</td>\n",
       "      <td>-0.8475</td>\n",
       "      <td>包钢股份</td>\n",
       "    </tr>\n",
       "    <tr>\n",
       "      <th>4</th>\n",
       "      <td>33.0</td>\n",
       "      <td>2010000012</td>\n",
       "      <td>0.0000</td>\n",
       "      <td>华能国际</td>\n",
       "    </tr>\n",
       "    <tr>\n",
       "      <th>...</th>\n",
       "      <td>...</td>\n",
       "      <td>...</td>\n",
       "      <td>...</td>\n",
       "      <td>...</td>\n",
       "    </tr>\n",
       "    <tr>\n",
       "      <th>295</th>\n",
       "      <td>9.0</td>\n",
       "      <td>2010031542</td>\n",
       "      <td>-0.6536</td>\n",
       "      <td>中国广核</td>\n",
       "    </tr>\n",
       "    <tr>\n",
       "      <th>296</th>\n",
       "      <td>43.0</td>\n",
       "      <td>2010031616</td>\n",
       "      <td>-0.9615</td>\n",
       "      <td>渝农商行</td>\n",
       "    </tr>\n",
       "    <tr>\n",
       "      <th>297</th>\n",
       "      <td>24.0</td>\n",
       "      <td>2010031720</td>\n",
       "      <td>-0.9615</td>\n",
       "      <td>浙商银行</td>\n",
       "    </tr>\n",
       "    <tr>\n",
       "      <th>298</th>\n",
       "      <td>32.0</td>\n",
       "      <td>2010031773</td>\n",
       "      <td>-0.6438</td>\n",
       "      <td>邮储银行</td>\n",
       "    </tr>\n",
       "    <tr>\n",
       "      <th>299</th>\n",
       "      <td>62.0</td>\n",
       "      <td>2010031963</td>\n",
       "      <td>-0.6410</td>\n",
       "      <td>京沪高铁</td>\n",
       "    </tr>\n",
       "  </tbody>\n",
       "</table>\n",
       "<p>300 rows × 4 columns</p>\n",
       "</div>"
      ],
      "text/plain": [
       "     cross_rank        code  chgPct secShortName\n",
       "0          98.0  2010000001 -1.0466         浦发银行\n",
       "1         130.0  2010000005 -2.0237         白云机场\n",
       "2         264.0  2010000010 -1.7115         上海机场\n",
       "3           1.0  2010000011 -0.8475         包钢股份\n",
       "4          33.0  2010000012  0.0000         华能国际\n",
       "..          ...         ...     ...          ...\n",
       "295         9.0  2010031542 -0.6536         中国广核\n",
       "296        43.0  2010031616 -0.9615         渝农商行\n",
       "297        24.0  2010031720 -0.9615         浙商银行\n",
       "298        32.0  2010031773 -0.6438         邮储银行\n",
       "299        62.0  2010031963 -0.6410         京沪高铁\n",
       "\n",
       "[300 rows x 4 columns]"
      ]
     },
     "execution_count": 9,
     "metadata": {},
     "output_type": "execute_result"
    }
   ],
   "source": [
    "cross_rank = CSRank(x=\"EMA5D\")\n",
    "engine.fetch_factor(\"2020-07-30\", factors={\"cross_rank\": cross_rank}, codes=codes)"
   ]
  },
  {
   "cell_type": "markdown",
   "metadata": {},
   "source": [
    "## 五、全部的复合\n",
    "\n",
    "以上所有的运算都可以相互复合"
   ]
  },
  {
   "cell_type": "code",
   "execution_count": 10,
   "metadata": {},
   "outputs": [],
   "source": [
    "a_very_comple_example = CSRank(x=LAST(\"EMA5D\") * LAST(\"EMV6D\") / 2 + LAST(\"EMV6D\")) + MACD(short=short_window, long=long_window, x=\"EMA5D\")"
   ]
  },
  {
   "cell_type": "code",
   "execution_count": 11,
   "metadata": {},
   "outputs": [
    {
     "data": {
      "text/html": [
       "<div>\n",
       "<style scoped>\n",
       "    .dataframe tbody tr th:only-of-type {\n",
       "        vertical-align: middle;\n",
       "    }\n",
       "\n",
       "    .dataframe tbody tr th {\n",
       "        vertical-align: top;\n",
       "    }\n",
       "\n",
       "    .dataframe thead th {\n",
       "        text-align: right;\n",
       "    }\n",
       "</style>\n",
       "<table border=\"1\" class=\"dataframe\">\n",
       "  <thead>\n",
       "    <tr style=\"text-align: right;\">\n",
       "      <th></th>\n",
       "      <th>a_very_comple_example</th>\n",
       "      <th>code</th>\n",
       "      <th>chgPct</th>\n",
       "      <th>secShortName</th>\n",
       "    </tr>\n",
       "  </thead>\n",
       "  <tbody>\n",
       "    <tr>\n",
       "      <th>0</th>\n",
       "      <td>132.974768</td>\n",
       "      <td>2010000001</td>\n",
       "      <td>-1.0466</td>\n",
       "      <td>浦发银行</td>\n",
       "    </tr>\n",
       "    <tr>\n",
       "      <th>1</th>\n",
       "      <td>87.376388</td>\n",
       "      <td>2010000005</td>\n",
       "      <td>-2.0237</td>\n",
       "      <td>白云机场</td>\n",
       "    </tr>\n",
       "    <tr>\n",
       "      <th>2</th>\n",
       "      <td>15.101461</td>\n",
       "      <td>2010000010</td>\n",
       "      <td>-1.7115</td>\n",
       "      <td>上海机场</td>\n",
       "    </tr>\n",
       "    <tr>\n",
       "      <th>3</th>\n",
       "      <td>204.043171</td>\n",
       "      <td>2010000011</td>\n",
       "      <td>-0.8475</td>\n",
       "      <td>包钢股份</td>\n",
       "    </tr>\n",
       "    <tr>\n",
       "      <th>4</th>\n",
       "      <td>179.264889</td>\n",
       "      <td>2010000012</td>\n",
       "      <td>0.0000</td>\n",
       "      <td>华能国际</td>\n",
       "    </tr>\n",
       "    <tr>\n",
       "      <th>...</th>\n",
       "      <td>...</td>\n",
       "      <td>...</td>\n",
       "      <td>...</td>\n",
       "      <td>...</td>\n",
       "    </tr>\n",
       "    <tr>\n",
       "      <th>295</th>\n",
       "      <td>187.073673</td>\n",
       "      <td>2010031542</td>\n",
       "      <td>-0.6536</td>\n",
       "      <td>中国广核</td>\n",
       "    </tr>\n",
       "    <tr>\n",
       "      <th>296</th>\n",
       "      <td>161.121885</td>\n",
       "      <td>2010031616</td>\n",
       "      <td>-0.9615</td>\n",
       "      <td>渝农商行</td>\n",
       "    </tr>\n",
       "    <tr>\n",
       "      <th>297</th>\n",
       "      <td>182.079833</td>\n",
       "      <td>2010031720</td>\n",
       "      <td>-0.9615</td>\n",
       "      <td>浙商银行</td>\n",
       "    </tr>\n",
       "    <tr>\n",
       "      <th>298</th>\n",
       "      <td>184.833899</td>\n",
       "      <td>2010031773</td>\n",
       "      <td>-0.6438</td>\n",
       "      <td>邮储银行</td>\n",
       "    </tr>\n",
       "    <tr>\n",
       "      <th>299</th>\n",
       "      <td>209.934732</td>\n",
       "      <td>2010031963</td>\n",
       "      <td>-0.6410</td>\n",
       "      <td>京沪高铁</td>\n",
       "    </tr>\n",
       "  </tbody>\n",
       "</table>\n",
       "<p>300 rows × 4 columns</p>\n",
       "</div>"
      ],
      "text/plain": [
       "     a_very_comple_example        code  chgPct secShortName\n",
       "0               132.974768  2010000001 -1.0466         浦发银行\n",
       "1                87.376388  2010000005 -2.0237         白云机场\n",
       "2                15.101461  2010000010 -1.7115         上海机场\n",
       "3               204.043171  2010000011 -0.8475         包钢股份\n",
       "4               179.264889  2010000012  0.0000         华能国际\n",
       "..                     ...         ...     ...          ...\n",
       "295             187.073673  2010031542 -0.6536         中国广核\n",
       "296             161.121885  2010031616 -0.9615         渝农商行\n",
       "297             182.079833  2010031720 -0.9615         浙商银行\n",
       "298             184.833899  2010031773 -0.6438         邮储银行\n",
       "299             209.934732  2010031963 -0.6410         京沪高铁\n",
       "\n",
       "[300 rows x 4 columns]"
      ]
     },
     "execution_count": 11,
     "metadata": {},
     "output_type": "execute_result"
    }
   ],
   "source": [
    "engine.fetch_factor(\"2020-07-30\", factors={\"a_very_comple_example\": a_very_comple_example}, codes=codes, warm_start=long_window)"
   ]
  },
  {
   "cell_type": "code",
   "execution_count": null,
   "metadata": {},
   "outputs": [],
   "source": []
  }
 ],
 "metadata": {
  "kernelspec": {
   "display_name": "Python 3",
   "language": "python",
   "name": "python3"
  },
  "language_info": {
   "codemirror_mode": {
    "name": "ipython",
    "version": 3
   },
   "file_extension": ".py",
   "mimetype": "text/x-python",
   "name": "python",
   "nbconvert_exporter": "python",
   "pygments_lexer": "ipython3",
   "version": "3.7.9"
  }
 },
 "nbformat": 4,
 "nbformat_minor": 4
}
