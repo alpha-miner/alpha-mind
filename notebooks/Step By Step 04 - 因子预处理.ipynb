{
 "cells": [
  {
   "cell_type": "markdown",
   "metadata": {},
   "source": [
    "# Step By Step 04 - 因子预处理\n",
    "--------------\n",
    "\n",
    "在因子进入产生信号之前，我们一般都需要进行因子预处理（主要包括：标准化、去极值等）"
   ]
  },
  {
   "cell_type": "code",
   "execution_count": 11,
   "metadata": {},
   "outputs": [
    {
     "data": {
      "text/plain": [
       "<alphamind.data.engines.sqlengine.mysql.SqlEngine at 0x1c5ee607e88>"
      ]
     },
     "execution_count": 11,
     "metadata": {},
     "output_type": "execute_result"
    }
   ],
   "source": [
    "%matplotlib inline\n",
    "import os\n",
    "from matplotlib import pyplot as plt\n",
    "from alphamind.api import *\n",
    "from alphamind.data.standardize import standardize\n",
    "from alphamind.data.winsorize import winsorize_normal\n",
    "from alphamind.data.neutralize import neutralize\n",
    "from alphamind.data.engines.sqlengine.mysql import risk_styles\n",
    "\n",
    "engine = SqlEngine(os.environ['DB_URI'])\n",
    "engine"
   ]
  },
  {
   "cell_type": "code",
   "execution_count": 2,
   "metadata": {},
   "outputs": [
    {
     "data": {
      "text/html": [
       "<div>\n",
       "<style scoped>\n",
       "    .dataframe tbody tr th:only-of-type {\n",
       "        vertical-align: middle;\n",
       "    }\n",
       "\n",
       "    .dataframe tbody tr th {\n",
       "        vertical-align: top;\n",
       "    }\n",
       "\n",
       "    .dataframe thead th {\n",
       "        text-align: right;\n",
       "    }\n",
       "</style>\n",
       "<table border=\"1\" class=\"dataframe\">\n",
       "  <thead>\n",
       "    <tr style=\"text-align: right;\">\n",
       "      <th></th>\n",
       "      <th>EMV6D</th>\n",
       "      <th>code</th>\n",
       "      <th>chgPct</th>\n",
       "      <th>secShortName</th>\n",
       "    </tr>\n",
       "  </thead>\n",
       "  <tbody>\n",
       "    <tr>\n",
       "      <th>0</th>\n",
       "      <td>-0.001850</td>\n",
       "      <td>2010000001</td>\n",
       "      <td>-1.0466</td>\n",
       "      <td>浦发银行</td>\n",
       "    </tr>\n",
       "    <tr>\n",
       "      <th>1</th>\n",
       "      <td>-0.008067</td>\n",
       "      <td>2010000005</td>\n",
       "      <td>-2.0237</td>\n",
       "      <td>白云机场</td>\n",
       "    </tr>\n",
       "    <tr>\n",
       "      <th>2</th>\n",
       "      <td>-0.400354</td>\n",
       "      <td>2010000010</td>\n",
       "      <td>-1.7115</td>\n",
       "      <td>上海机场</td>\n",
       "    </tr>\n",
       "    <tr>\n",
       "      <th>3</th>\n",
       "      <td>0.000000</td>\n",
       "      <td>2010000011</td>\n",
       "      <td>-0.8475</td>\n",
       "      <td>包钢股份</td>\n",
       "    </tr>\n",
       "    <tr>\n",
       "      <th>4</th>\n",
       "      <td>-0.000154</td>\n",
       "      <td>2010000012</td>\n",
       "      <td>0.0000</td>\n",
       "      <td>华能国际</td>\n",
       "    </tr>\n",
       "  </tbody>\n",
       "</table>\n",
       "</div>"
      ],
      "text/plain": [
       "      EMV6D        code  chgPct secShortName\n",
       "0 -0.001850  2010000001 -1.0466         浦发银行\n",
       "1 -0.008067  2010000005 -2.0237         白云机场\n",
       "2 -0.400354  2010000010 -1.7115         上海机场\n",
       "3  0.000000  2010000011 -0.8475         包钢股份\n",
       "4 -0.000154  2010000012  0.0000         华能国际"
      ]
     },
     "execution_count": 2,
     "metadata": {},
     "output_type": "execute_result"
    }
   ],
   "source": [
    "# 首先我们准备原始数据\n",
    "\n",
    "universe = Universe(\"HS300\")\n",
    "codes = engine.fetch_codes(\"2020-07-30\", universe)  # 获取沪深300成分股\n",
    "\n",
    "raw_factor = engine.fetch_factor(\"2020-07-30\", factors=[\"EMV6D\"], codes=codes).dropna()\n",
    "raw_factor.head()"
   ]
  },
  {
   "cell_type": "markdown",
   "metadata": {},
   "source": [
    "## 一、标准化"
   ]
  },
  {
   "cell_type": "code",
   "execution_count": 3,
   "metadata": {},
   "outputs": [
    {
     "data": {
      "text/plain": [
       "<AxesSubplot:>"
      ]
     },
     "execution_count": 3,
     "metadata": {},
     "output_type": "execute_result"
    },
    {
     "data": {
      "image/png": "[encoded data removed]",
      "text/plain": [
       "<Figure size 432x288 with 1 Axes>"
      ]
     },
     "metadata": {
      "needs_background": "light"
     },
     "output_type": "display_data"
    }
   ],
   "source": [
    "raw_factor[\"std.\"] = standardize(raw_factor[[\"EMV6D\"]].values)\n",
    "\n",
    "figure = plt.figure()\n",
    "ax = figure.gca()\n",
    "\n",
    "raw_factor[[\"EMV6D\"]].plot(ax=ax)\n",
    "raw_factor[[\"std.\"]].plot(ax=ax)"
   ]
  },
  {
   "cell_type": "markdown",
   "metadata": {},
   "source": [
    "## 二、去极值"
   ]
  },
  {
   "cell_type": "code",
   "execution_count": 4,
   "metadata": {},
   "outputs": [
    {
     "data": {
      "text/plain": [
       "<AxesSubplot:>"
      ]
     },
     "execution_count": 4,
     "metadata": {},
     "output_type": "execute_result"
    },
    {
     "data": {
      "image/png": "[encoded data removed]",
      "text/plain": [
       "<Figure size 432x288 with 1 Axes>"
      ]
     },
     "metadata": {
      "needs_background": "light"
     },
     "output_type": "display_data"
    }
   ],
   "source": [
    "raw_factor[\"win.\"] = winsorize_normal(raw_factor[[\"EMV6D\"]].values)\n",
    "\n",
    "figure = plt.figure()\n",
    "ax = figure.gca()\n",
    "\n",
    "raw_factor[[\"EMV6D\"]].plot(ax=ax)\n",
    "raw_factor[[\"win.\"]].plot(ax=ax)"
   ]
  },
  {
   "cell_type": "markdown",
   "metadata": {},
   "source": [
    "## 三、中性化\n",
    "\n",
    "这一步是最具有量化特色的处理。对于因子模型而言，我们一般都要对原始因子，基于**风险因子**进行中性化处理，只保留残差部分。"
   ]
  },
  {
   "cell_type": "code",
   "execution_count": 27,
   "metadata": {},
   "outputs": [],
   "source": [
    "risk_model = engine.fetch_risk_model(\"2020-07-30\", codes=codes)[1]\n",
    "risk_model = risk_model.loc[risk_model.code.isin(raw_factor.code), risk_styles]"
   ]
  },
  {
   "cell_type": "code",
   "execution_count": 35,
   "metadata": {},
   "outputs": [
    {
     "data": {
      "text/plain": [
       "<AxesSubplot:>"
      ]
     },
     "execution_count": 35,
     "metadata": {},
     "output_type": "execute_result"
    },
    {
     "data": {
      "image/png": "[encoded data removed]",
      "text/plain": [
       "<Figure size 432x288 with 1 Axes>"
      ]
     },
     "metadata": {
      "needs_background": "light"
     },
     "output_type": "display_data"
    }
   ],
   "source": [
    "raw_factor[\"neu.\"] = neutralize(risk_model.values, raw_factor[[\"EMV6D\"]].values)\n",
    "\n",
    "figure = plt.figure()\n",
    "ax = figure.gca()\n",
    "\n",
    "raw_factor[[\"EMV6D\"]].plot(ax=ax)\n",
    "raw_factor[[\"neu.\"]].plot(ax=ax)"
   ]
  },
  {
   "cell_type": "markdown",
   "metadata": {},
   "source": [
    "## 四、pipeline\n",
    "\n",
    "**alpha-mind** 已经提供了一个统一的processing函数，用户可以同时将多步预处理整合在一条pipeline里面。"
   ]
  },
  {
   "cell_type": "code",
   "execution_count": 36,
   "metadata": {},
   "outputs": [],
   "source": [
    "from alphamind.data.processing import factor_processing"
   ]
  },
  {
   "cell_type": "code",
   "execution_count": 37,
   "metadata": {},
   "outputs": [],
   "source": [
    "raw_factor[\"complex.\"] = factor_processing(raw_factor[[\"EMV6D\"]].values,\n",
    "                                           pre_process=[standardize, winsorize_normal],\n",
    "                                           risk_factors=risk_model.values)"
   ]
  },
  {
   "cell_type": "code",
   "execution_count": 39,
   "metadata": {},
   "outputs": [
    {
     "data": {
      "text/plain": [
       "<AxesSubplot:>"
      ]
     },
     "execution_count": 39,
     "metadata": {},
     "output_type": "execute_result"
    },
    {
     "data": {
      "image/png": "[encoded data removed]",
      "text/plain": [
       "<Figure size 432x288 with 2 Axes>"
      ]
     },
     "metadata": {
      "needs_background": "light"
     },
     "output_type": "display_data"
    }
   ],
   "source": [
    "figure = plt.figure()\n",
    "ax = figure.gca()\n",
    "\n",
    "raw_factor[[\"EMV6D\"]].plot(ax=ax)\n",
    "raw_factor[[\"complex.\"]].plot(ax=ax, secondary_y=True)"
   ]
  },
  {
   "cell_type": "code",
   "execution_count": null,
   "metadata": {},
   "outputs": [],
   "source": []
  }
 ],
 "metadata": {
  "kernelspec": {
   "display_name": "Python 3",
   "language": "python",
   "name": "python3"
  },
  "language_info": {
   "codemirror_mode": {
    "name": "ipython",
    "version": 3
   },
   "file_extension": ".py",
   "mimetype": "text/x-python",
   "name": "python",
   "nbconvert_exporter": "python",
   "pygments_lexer": "ipython3",
   "version": "3.7.9"
  }
 },
 "nbformat": 4,
 "nbformat_minor": 4
}
